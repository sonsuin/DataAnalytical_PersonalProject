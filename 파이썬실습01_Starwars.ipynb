{
  "nbformat": 4,
  "nbformat_minor": 0,
  "metadata": {
    "colab": {
      "provenance": [],
      "include_colab_link": true
    },
    "kernelspec": {
      "name": "python3",
      "display_name": "Python 3"
    },
    "language_info": {
      "name": "python"
    }
  },
  "cells": [
    {
      "cell_type": "markdown",
      "metadata": {
        "id": "view-in-github",
        "colab_type": "text"
      },
      "source": [
        "<a href=\"https://colab.research.google.com/github/sonsuin/DataAnalytical_PersonalProject/blob/main/%ED%8C%8C%EC%9D%B4%EC%8D%AC%EC%8B%A4%EC%8A%B501_Starwars.ipynb\" target=\"_parent\"><img src=\"https://colab.research.google.com/assets/colab-badge.svg\" alt=\"Open In Colab\"/></a>"
      ]
    },
    {
      "cell_type": "markdown",
      "metadata": {
        "id": "UgFqC1Wv3aJ3"
      },
      "source": [
        "#Data 01: 스타워즈(Starwars)\n",
        "\n",
        "*   스타워즈 API([SWAP](https://swapi.dev/)) 의 데이터로 스타워즈에 등장하는 캐릭터들의 특징을 나타내고 있다.\n",
        "*   Data from: https://dplyr.tidyverse.org/reference/starwars.html\n",
        "\n"
      ]
    },
    {
      "cell_type": "markdown",
      "metadata": {
        "id": "mWnT0Kkh3vZy"
      },
      "source": [
        "##1.데이터 둘러보기"
      ]
    },
    {
      "cell_type": "code",
      "metadata": {
        "id": "EjY1zMeufqjd",
        "colab": {
          "base_uri": "https://localhost:8080/"
        },
        "outputId": "008d2fe1-0475-41e3-e3e1-70b9ee0570d9"
      },
      "source": [
        "#한글 폰트 설정하기\n",
        "!sudo apt-get install -y fonts-nanum\n",
        "!sudo fc-cache -fv\n",
        "!rm ~/.cache/matplotlib -rf\n",
        "#런타임 다시 시작"
      ],
      "execution_count": 1,
      "outputs": [
        {
          "output_type": "stream",
          "name": "stdout",
          "text": [
            "Reading package lists... Done\n",
            "Building dependency tree       \n",
            "Reading state information... Done\n",
            "The following package was automatically installed and is no longer required:\n",
            "  libnvidia-common-460\n",
            "Use 'sudo apt autoremove' to remove it.\n",
            "The following NEW packages will be installed:\n",
            "  fonts-nanum\n",
            "0 upgraded, 1 newly installed, 0 to remove and 21 not upgraded.\n",
            "Need to get 9,604 kB of archives.\n",
            "After this operation, 29.5 MB of additional disk space will be used.\n",
            "Get:1 http://archive.ubuntu.com/ubuntu bionic/universe amd64 fonts-nanum all 20170925-1 [9,604 kB]\n",
            "Fetched 9,604 kB in 2s (5,273 kB/s)\n",
            "debconf: unable to initialize frontend: Dialog\n",
            "debconf: (No usable dialog-like program is installed, so the dialog based frontend cannot be used. at /usr/share/perl5/Debconf/FrontEnd/Dialog.pm line 76, <> line 1.)\n",
            "debconf: falling back to frontend: Readline\n",
            "debconf: unable to initialize frontend: Readline\n",
            "debconf: (This frontend requires a controlling tty.)\n",
            "debconf: falling back to frontend: Teletype\n",
            "dpkg-preconfigure: unable to re-open stdin: \n",
            "Selecting previously unselected package fonts-nanum.\n",
            "(Reading database ... 124016 files and directories currently installed.)\n",
            "Preparing to unpack .../fonts-nanum_20170925-1_all.deb ...\n",
            "Unpacking fonts-nanum (20170925-1) ...\n",
            "Setting up fonts-nanum (20170925-1) ...\n",
            "Processing triggers for fontconfig (2.12.6-0ubuntu2) ...\n",
            "/usr/share/fonts: caching, new cache contents: 0 fonts, 1 dirs\n",
            "/usr/share/fonts/truetype: caching, new cache contents: 0 fonts, 3 dirs\n",
            "/usr/share/fonts/truetype/humor-sans: caching, new cache contents: 1 fonts, 0 dirs\n",
            "/usr/share/fonts/truetype/liberation: caching, new cache contents: 16 fonts, 0 dirs\n",
            "/usr/share/fonts/truetype/nanum: caching, new cache contents: 10 fonts, 0 dirs\n",
            "/usr/local/share/fonts: caching, new cache contents: 0 fonts, 0 dirs\n",
            "/root/.local/share/fonts: skipping, no such directory\n",
            "/root/.fonts: skipping, no such directory\n",
            "/var/cache/fontconfig: cleaning cache directory\n",
            "/root/.cache/fontconfig: not cleaning non-existent cache directory\n",
            "/root/.fontconfig: not cleaning non-existent cache directory\n",
            "fc-cache: succeeded\n"
          ]
        }
      ]
    },
    {
      "cell_type": "code",
      "metadata": {
        "id": "Cv49O7mq3vIb"
      },
      "source": [
        "#기본 패키지 불러오기\n",
        "import math\n",
        "import numpy as np\n",
        "import pandas as pd\n",
        "import seaborn as sns\n",
        "import matplotlib.pyplot as plt\n",
        "plt.rc('font', family='NanumBarunGothic') #한글 폰트 가져오기\n",
        "\n",
        "plt.style.use('seaborn') #그래프 기본 설정\n",
        "sns.set(font_scale=1)\n",
        "\n",
        "import warnings #경고 메세지 무시하기\n",
        "warnings.simplefilter(action='ignore', category=FutureWarning)"
      ],
      "execution_count": 1,
      "outputs": []
    },
    {
      "cell_type": "code",
      "metadata": {
        "id": "xxB1aKGc3TNZ",
        "colab": {
          "base_uri": "https://localhost:8080/"
        },
        "outputId": "92384536-8975-47b4-c89a-3a557345604c"
      },
      "source": [
        "#구글 드라이브 마운트하기(이미 되어있다면 건너뛴다)\n",
        "from google.colab import drive \n",
        "drive.mount('/content/drive')"
      ],
      "execution_count": 6,
      "outputs": [
        {
          "output_type": "stream",
          "name": "stdout",
          "text": [
            "Drive already mounted at /content/drive; to attempt to forcibly remount, call drive.mount(\"/content/drive\", force_remount=True).\n"
          ]
        }
      ]
    },
    {
      "cell_type": "code",
      "source": [
        "%pwd"
      ],
      "metadata": {
        "colab": {
          "base_uri": "https://localhost:8080/",
          "height": 35
        },
        "id": "5iort2ZcqoG-",
        "outputId": "a989c176-c2d4-4a86-955e-1ade3839b9ad"
      },
      "execution_count": 10,
      "outputs": [
        {
          "output_type": "execute_result",
          "data": {
            "text/plain": [
              "'/content'"
            ],
            "application/vnd.google.colaboratory.intrinsic+json": {
              "type": "string"
            }
          },
          "metadata": {},
          "execution_count": 10
        }
      ]
    },
    {
      "cell_type": "code",
      "metadata": {
        "id": "Lrcd7rvb30qT"
      },
      "source": [
        "#데이터 불러오기\n",
        "#구글 드라이브에 올려준 csv 데이터 파일 불러오기\n",
        "sw = pd.read_csv('/content/drive/MyDrive/data/Starwars.csv')"
      ],
      "execution_count": 11,
      "outputs": []
    },
    {
      "cell_type": "code",
      "metadata": {
        "id": "ny7lVJPi4ALr",
        "colab": {
          "base_uri": "https://localhost:8080/",
          "height": 322
        },
        "outputId": "ce7a7d41-115f-45d4-b357-bcc4fa4c5998"
      },
      "source": [
        "#불러온 데이터 일단 확인하기\n",
        "sw.head()"
      ],
      "execution_count": 12,
      "outputs": [
        {
          "output_type": "execute_result",
          "data": {
            "text/plain": [
              "             name  height   mass hair_color   skin_color eye_color  \\\n",
              "0  Luke Skywalker   172.0   77.0      blond         fair      blue   \n",
              "1           C-3PO   167.0   75.0        NaN         gold    yellow   \n",
              "2           R2-D2    96.0   32.0        NaN  white, blue       red   \n",
              "3     Darth Vader   202.0  136.0       none        white    yellow   \n",
              "4     Leia Organa   150.0   49.0      brown        light     brown   \n",
              "\n",
              "   birth_year     sex     gender homeworld species  \n",
              "0        19.0    male  masculine  Tatooine   Human  \n",
              "1       112.0    none  masculine  Tatooine   Droid  \n",
              "2        33.0    none  masculine     Naboo   Droid  \n",
              "3        41.9    male  masculine  Tatooine   Human  \n",
              "4        19.0  female   feminine  Alderaan   Human  "
            ],
            "text/html": [
              "\n",
              "  <div id=\"df-328f97c2-b2f5-45a8-ab0f-608df3ac3f09\">\n",
              "    <div class=\"colab-df-container\">\n",
              "      <div>\n",
              "<style scoped>\n",
              "    .dataframe tbody tr th:only-of-type {\n",
              "        vertical-align: middle;\n",
              "    }\n",
              "\n",
              "    .dataframe tbody tr th {\n",
              "        vertical-align: top;\n",
              "    }\n",
              "\n",
              "    .dataframe thead th {\n",
              "        text-align: right;\n",
              "    }\n",
              "</style>\n",
              "<table border=\"1\" class=\"dataframe\">\n",
              "  <thead>\n",
              "    <tr style=\"text-align: right;\">\n",
              "      <th></th>\n",
              "      <th>name</th>\n",
              "      <th>height</th>\n",
              "      <th>mass</th>\n",
              "      <th>hair_color</th>\n",
              "      <th>skin_color</th>\n",
              "      <th>eye_color</th>\n",
              "      <th>birth_year</th>\n",
              "      <th>sex</th>\n",
              "      <th>gender</th>\n",
              "      <th>homeworld</th>\n",
              "      <th>species</th>\n",
              "    </tr>\n",
              "  </thead>\n",
              "  <tbody>\n",
              "    <tr>\n",
              "      <th>0</th>\n",
              "      <td>Luke Skywalker</td>\n",
              "      <td>172.0</td>\n",
              "      <td>77.0</td>\n",
              "      <td>blond</td>\n",
              "      <td>fair</td>\n",
              "      <td>blue</td>\n",
              "      <td>19.0</td>\n",
              "      <td>male</td>\n",
              "      <td>masculine</td>\n",
              "      <td>Tatooine</td>\n",
              "      <td>Human</td>\n",
              "    </tr>\n",
              "    <tr>\n",
              "      <th>1</th>\n",
              "      <td>C-3PO</td>\n",
              "      <td>167.0</td>\n",
              "      <td>75.0</td>\n",
              "      <td>NaN</td>\n",
              "      <td>gold</td>\n",
              "      <td>yellow</td>\n",
              "      <td>112.0</td>\n",
              "      <td>none</td>\n",
              "      <td>masculine</td>\n",
              "      <td>Tatooine</td>\n",
              "      <td>Droid</td>\n",
              "    </tr>\n",
              "    <tr>\n",
              "      <th>2</th>\n",
              "      <td>R2-D2</td>\n",
              "      <td>96.0</td>\n",
              "      <td>32.0</td>\n",
              "      <td>NaN</td>\n",
              "      <td>white, blue</td>\n",
              "      <td>red</td>\n",
              "      <td>33.0</td>\n",
              "      <td>none</td>\n",
              "      <td>masculine</td>\n",
              "      <td>Naboo</td>\n",
              "      <td>Droid</td>\n",
              "    </tr>\n",
              "    <tr>\n",
              "      <th>3</th>\n",
              "      <td>Darth Vader</td>\n",
              "      <td>202.0</td>\n",
              "      <td>136.0</td>\n",
              "      <td>none</td>\n",
              "      <td>white</td>\n",
              "      <td>yellow</td>\n",
              "      <td>41.9</td>\n",
              "      <td>male</td>\n",
              "      <td>masculine</td>\n",
              "      <td>Tatooine</td>\n",
              "      <td>Human</td>\n",
              "    </tr>\n",
              "    <tr>\n",
              "      <th>4</th>\n",
              "      <td>Leia Organa</td>\n",
              "      <td>150.0</td>\n",
              "      <td>49.0</td>\n",
              "      <td>brown</td>\n",
              "      <td>light</td>\n",
              "      <td>brown</td>\n",
              "      <td>19.0</td>\n",
              "      <td>female</td>\n",
              "      <td>feminine</td>\n",
              "      <td>Alderaan</td>\n",
              "      <td>Human</td>\n",
              "    </tr>\n",
              "  </tbody>\n",
              "</table>\n",
              "</div>\n",
              "      <button class=\"colab-df-convert\" onclick=\"convertToInteractive('df-328f97c2-b2f5-45a8-ab0f-608df3ac3f09')\"\n",
              "              title=\"Convert this dataframe to an interactive table.\"\n",
              "              style=\"display:none;\">\n",
              "        \n",
              "  <svg xmlns=\"http://www.w3.org/2000/svg\" height=\"24px\"viewBox=\"0 0 24 24\"\n",
              "       width=\"24px\">\n",
              "    <path d=\"M0 0h24v24H0V0z\" fill=\"none\"/>\n",
              "    <path d=\"M18.56 5.44l.94 2.06.94-2.06 2.06-.94-2.06-.94-.94-2.06-.94 2.06-2.06.94zm-11 1L8.5 8.5l.94-2.06 2.06-.94-2.06-.94L8.5 2.5l-.94 2.06-2.06.94zm10 10l.94 2.06.94-2.06 2.06-.94-2.06-.94-.94-2.06-.94 2.06-2.06.94z\"/><path d=\"M17.41 7.96l-1.37-1.37c-.4-.4-.92-.59-1.43-.59-.52 0-1.04.2-1.43.59L10.3 9.45l-7.72 7.72c-.78.78-.78 2.05 0 2.83L4 21.41c.39.39.9.59 1.41.59.51 0 1.02-.2 1.41-.59l7.78-7.78 2.81-2.81c.8-.78.8-2.07 0-2.86zM5.41 20L4 18.59l7.72-7.72 1.47 1.35L5.41 20z\"/>\n",
              "  </svg>\n",
              "      </button>\n",
              "      \n",
              "  <style>\n",
              "    .colab-df-container {\n",
              "      display:flex;\n",
              "      flex-wrap:wrap;\n",
              "      gap: 12px;\n",
              "    }\n",
              "\n",
              "    .colab-df-convert {\n",
              "      background-color: #E8F0FE;\n",
              "      border: none;\n",
              "      border-radius: 50%;\n",
              "      cursor: pointer;\n",
              "      display: none;\n",
              "      fill: #1967D2;\n",
              "      height: 32px;\n",
              "      padding: 0 0 0 0;\n",
              "      width: 32px;\n",
              "    }\n",
              "\n",
              "    .colab-df-convert:hover {\n",
              "      background-color: #E2EBFA;\n",
              "      box-shadow: 0px 1px 2px rgba(60, 64, 67, 0.3), 0px 1px 3px 1px rgba(60, 64, 67, 0.15);\n",
              "      fill: #174EA6;\n",
              "    }\n",
              "\n",
              "    [theme=dark] .colab-df-convert {\n",
              "      background-color: #3B4455;\n",
              "      fill: #D2E3FC;\n",
              "    }\n",
              "\n",
              "    [theme=dark] .colab-df-convert:hover {\n",
              "      background-color: #434B5C;\n",
              "      box-shadow: 0px 1px 3px 1px rgba(0, 0, 0, 0.15);\n",
              "      filter: drop-shadow(0px 1px 2px rgba(0, 0, 0, 0.3));\n",
              "      fill: #FFFFFF;\n",
              "    }\n",
              "  </style>\n",
              "\n",
              "      <script>\n",
              "        const buttonEl =\n",
              "          document.querySelector('#df-328f97c2-b2f5-45a8-ab0f-608df3ac3f09 button.colab-df-convert');\n",
              "        buttonEl.style.display =\n",
              "          google.colab.kernel.accessAllowed ? 'block' : 'none';\n",
              "\n",
              "        async function convertToInteractive(key) {\n",
              "          const element = document.querySelector('#df-328f97c2-b2f5-45a8-ab0f-608df3ac3f09');\n",
              "          const dataTable =\n",
              "            await google.colab.kernel.invokeFunction('convertToInteractive',\n",
              "                                                     [key], {});\n",
              "          if (!dataTable) return;\n",
              "\n",
              "          const docLinkHtml = 'Like what you see? Visit the ' +\n",
              "            '<a target=\"_blank\" href=https://colab.research.google.com/notebooks/data_table.ipynb>data table notebook</a>'\n",
              "            + ' to learn more about interactive tables.';\n",
              "          element.innerHTML = '';\n",
              "          dataTable['output_type'] = 'display_data';\n",
              "          await google.colab.output.renderOutput(dataTable, element);\n",
              "          const docLink = document.createElement('div');\n",
              "          docLink.innerHTML = docLinkHtml;\n",
              "          element.appendChild(docLink);\n",
              "        }\n",
              "      </script>\n",
              "    </div>\n",
              "  </div>\n",
              "  "
            ]
          },
          "metadata": {},
          "execution_count": 12
        }
      ]
    },
    {
      "cell_type": "markdown",
      "metadata": {
        "id": "mwFmIeyv4xll"
      },
      "source": [
        "<컬럼 설명>   \n",
        "* name: 캐릭터 이름  \n",
        "* height: 키  \n",
        "* mass: 몸무게  \n",
        "* hair_color: 머리카락 색  \n",
        "* skin_color: 피부색  \n",
        "* eye_color: 눈동자 색  \n",
        "* birth_year: 생년  \n",
        "* sex: 생물학적 성별  \n",
        "* gender: 사회적 성별  \n",
        "* homeworld: 고향  \n",
        "* species: 종"
      ]
    },
    {
      "cell_type": "markdown",
      "metadata": {
        "id": "7T0cFw7IiVMw"
      },
      "source": [
        "* 범주형 변수: *빈도frequency 계산 가능*\n",
        "               name, hair_color, skin_color, eye_color, sex, gender, homeworld, species\n",
        "* 연속형 변수: *평균, 표준편차, min/max 등 수치 계산 가능*\n",
        "               height, mass, birth_year"
      ]
    },
    {
      "cell_type": "code",
      "metadata": {
        "id": "G-0hvZaE4E91",
        "colab": {
          "base_uri": "https://localhost:8080/"
        },
        "outputId": "81c0975a-aec9-4bed-8aae-501330f2a737"
      },
      "source": [
        "#컬럼 기본 정보 확인하기\n",
        "sw.info()"
      ],
      "execution_count": 14,
      "outputs": [
        {
          "output_type": "stream",
          "name": "stdout",
          "text": [
            "<class 'pandas.core.frame.DataFrame'>\n",
            "RangeIndex: 87 entries, 0 to 86\n",
            "Data columns (total 11 columns):\n",
            " #   Column      Non-Null Count  Dtype  \n",
            "---  ------      --------------  -----  \n",
            " 0   name        87 non-null     object \n",
            " 1   height      81 non-null     float64\n",
            " 2   mass        59 non-null     float64\n",
            " 3   hair_color  82 non-null     object \n",
            " 4   skin_color  87 non-null     object \n",
            " 5   eye_color   87 non-null     object \n",
            " 6   birth_year  43 non-null     float64\n",
            " 7   sex         83 non-null     object \n",
            " 8   gender      83 non-null     object \n",
            " 9   homeworld   77 non-null     object \n",
            " 10  species     83 non-null     object \n",
            "dtypes: float64(3), object(8)\n",
            "memory usage: 7.6+ KB\n"
          ]
        }
      ]
    },
    {
      "cell_type": "code",
      "metadata": {
        "id": "Dus13QqQ8LnR",
        "colab": {
          "base_uri": "https://localhost:8080/",
          "height": 300
        },
        "outputId": "1d850fe9-2136-4293-afe3-371460d9385d"
      },
      "source": [
        "#연속형(수치) 데이터의 통계치 확인하기\n",
        "sw.describe()"
      ],
      "execution_count": 15,
      "outputs": [
        {
          "output_type": "execute_result",
          "data": {
            "text/plain": [
              "           height         mass  birth_year\n",
              "count   81.000000    59.000000   43.000000\n",
              "mean   174.358025    97.311864   87.565116\n",
              "std     34.770429   169.457163  154.691439\n",
              "min     66.000000    15.000000    8.000000\n",
              "25%    167.000000    55.600000   35.000000\n",
              "50%    180.000000    79.000000   52.000000\n",
              "75%    191.000000    84.500000   72.000000\n",
              "max    264.000000  1358.000000  896.000000"
            ],
            "text/html": [
              "\n",
              "  <div id=\"df-b9a6c796-3ff0-4084-b196-72b6e7183387\">\n",
              "    <div class=\"colab-df-container\">\n",
              "      <div>\n",
              "<style scoped>\n",
              "    .dataframe tbody tr th:only-of-type {\n",
              "        vertical-align: middle;\n",
              "    }\n",
              "\n",
              "    .dataframe tbody tr th {\n",
              "        vertical-align: top;\n",
              "    }\n",
              "\n",
              "    .dataframe thead th {\n",
              "        text-align: right;\n",
              "    }\n",
              "</style>\n",
              "<table border=\"1\" class=\"dataframe\">\n",
              "  <thead>\n",
              "    <tr style=\"text-align: right;\">\n",
              "      <th></th>\n",
              "      <th>height</th>\n",
              "      <th>mass</th>\n",
              "      <th>birth_year</th>\n",
              "    </tr>\n",
              "  </thead>\n",
              "  <tbody>\n",
              "    <tr>\n",
              "      <th>count</th>\n",
              "      <td>81.000000</td>\n",
              "      <td>59.000000</td>\n",
              "      <td>43.000000</td>\n",
              "    </tr>\n",
              "    <tr>\n",
              "      <th>mean</th>\n",
              "      <td>174.358025</td>\n",
              "      <td>97.311864</td>\n",
              "      <td>87.565116</td>\n",
              "    </tr>\n",
              "    <tr>\n",
              "      <th>std</th>\n",
              "      <td>34.770429</td>\n",
              "      <td>169.457163</td>\n",
              "      <td>154.691439</td>\n",
              "    </tr>\n",
              "    <tr>\n",
              "      <th>min</th>\n",
              "      <td>66.000000</td>\n",
              "      <td>15.000000</td>\n",
              "      <td>8.000000</td>\n",
              "    </tr>\n",
              "    <tr>\n",
              "      <th>25%</th>\n",
              "      <td>167.000000</td>\n",
              "      <td>55.600000</td>\n",
              "      <td>35.000000</td>\n",
              "    </tr>\n",
              "    <tr>\n",
              "      <th>50%</th>\n",
              "      <td>180.000000</td>\n",
              "      <td>79.000000</td>\n",
              "      <td>52.000000</td>\n",
              "    </tr>\n",
              "    <tr>\n",
              "      <th>75%</th>\n",
              "      <td>191.000000</td>\n",
              "      <td>84.500000</td>\n",
              "      <td>72.000000</td>\n",
              "    </tr>\n",
              "    <tr>\n",
              "      <th>max</th>\n",
              "      <td>264.000000</td>\n",
              "      <td>1358.000000</td>\n",
              "      <td>896.000000</td>\n",
              "    </tr>\n",
              "  </tbody>\n",
              "</table>\n",
              "</div>\n",
              "      <button class=\"colab-df-convert\" onclick=\"convertToInteractive('df-b9a6c796-3ff0-4084-b196-72b6e7183387')\"\n",
              "              title=\"Convert this dataframe to an interactive table.\"\n",
              "              style=\"display:none;\">\n",
              "        \n",
              "  <svg xmlns=\"http://www.w3.org/2000/svg\" height=\"24px\"viewBox=\"0 0 24 24\"\n",
              "       width=\"24px\">\n",
              "    <path d=\"M0 0h24v24H0V0z\" fill=\"none\"/>\n",
              "    <path d=\"M18.56 5.44l.94 2.06.94-2.06 2.06-.94-2.06-.94-.94-2.06-.94 2.06-2.06.94zm-11 1L8.5 8.5l.94-2.06 2.06-.94-2.06-.94L8.5 2.5l-.94 2.06-2.06.94zm10 10l.94 2.06.94-2.06 2.06-.94-2.06-.94-.94-2.06-.94 2.06-2.06.94z\"/><path d=\"M17.41 7.96l-1.37-1.37c-.4-.4-.92-.59-1.43-.59-.52 0-1.04.2-1.43.59L10.3 9.45l-7.72 7.72c-.78.78-.78 2.05 0 2.83L4 21.41c.39.39.9.59 1.41.59.51 0 1.02-.2 1.41-.59l7.78-7.78 2.81-2.81c.8-.78.8-2.07 0-2.86zM5.41 20L4 18.59l7.72-7.72 1.47 1.35L5.41 20z\"/>\n",
              "  </svg>\n",
              "      </button>\n",
              "      \n",
              "  <style>\n",
              "    .colab-df-container {\n",
              "      display:flex;\n",
              "      flex-wrap:wrap;\n",
              "      gap: 12px;\n",
              "    }\n",
              "\n",
              "    .colab-df-convert {\n",
              "      background-color: #E8F0FE;\n",
              "      border: none;\n",
              "      border-radius: 50%;\n",
              "      cursor: pointer;\n",
              "      display: none;\n",
              "      fill: #1967D2;\n",
              "      height: 32px;\n",
              "      padding: 0 0 0 0;\n",
              "      width: 32px;\n",
              "    }\n",
              "\n",
              "    .colab-df-convert:hover {\n",
              "      background-color: #E2EBFA;\n",
              "      box-shadow: 0px 1px 2px rgba(60, 64, 67, 0.3), 0px 1px 3px 1px rgba(60, 64, 67, 0.15);\n",
              "      fill: #174EA6;\n",
              "    }\n",
              "\n",
              "    [theme=dark] .colab-df-convert {\n",
              "      background-color: #3B4455;\n",
              "      fill: #D2E3FC;\n",
              "    }\n",
              "\n",
              "    [theme=dark] .colab-df-convert:hover {\n",
              "      background-color: #434B5C;\n",
              "      box-shadow: 0px 1px 3px 1px rgba(0, 0, 0, 0.15);\n",
              "      filter: drop-shadow(0px 1px 2px rgba(0, 0, 0, 0.3));\n",
              "      fill: #FFFFFF;\n",
              "    }\n",
              "  </style>\n",
              "\n",
              "      <script>\n",
              "        const buttonEl =\n",
              "          document.querySelector('#df-b9a6c796-3ff0-4084-b196-72b6e7183387 button.colab-df-convert');\n",
              "        buttonEl.style.display =\n",
              "          google.colab.kernel.accessAllowed ? 'block' : 'none';\n",
              "\n",
              "        async function convertToInteractive(key) {\n",
              "          const element = document.querySelector('#df-b9a6c796-3ff0-4084-b196-72b6e7183387');\n",
              "          const dataTable =\n",
              "            await google.colab.kernel.invokeFunction('convertToInteractive',\n",
              "                                                     [key], {});\n",
              "          if (!dataTable) return;\n",
              "\n",
              "          const docLinkHtml = 'Like what you see? Visit the ' +\n",
              "            '<a target=\"_blank\" href=https://colab.research.google.com/notebooks/data_table.ipynb>data table notebook</a>'\n",
              "            + ' to learn more about interactive tables.';\n",
              "          element.innerHTML = '';\n",
              "          dataTable['output_type'] = 'display_data';\n",
              "          await google.colab.output.renderOutput(dataTable, element);\n",
              "          const docLink = document.createElement('div');\n",
              "          docLink.innerHTML = docLinkHtml;\n",
              "          element.appendChild(docLink);\n",
              "        }\n",
              "      </script>\n",
              "    </div>\n",
              "  </div>\n",
              "  "
            ]
          },
          "metadata": {},
          "execution_count": 15
        }
      ]
    },
    {
      "cell_type": "code",
      "metadata": {
        "id": "E5XVM8NXlPwN",
        "colab": {
          "base_uri": "https://localhost:8080/",
          "height": 308
        },
        "outputId": "1002ce77-33b7-46ed-d4f7-40925af21572"
      },
      "source": [
        "#범주형 데이터의 통계치 확인하기\n",
        "sw.describe(include=np.object)"
      ],
      "execution_count": 16,
      "outputs": [
        {
          "output_type": "stream",
          "name": "stderr",
          "text": [
            "<ipython-input-16-1aa90218c52e>:2: DeprecationWarning: `np.object` is a deprecated alias for the builtin `object`. To silence this warning, use `object` by itself. Doing this will not modify any behavior and is safe. \n",
            "Deprecated in NumPy 1.20; for more details and guidance: https://numpy.org/devdocs/release/1.20.0-notes.html#deprecations\n",
            "  sw.describe(include=np.object)\n"
          ]
        },
        {
          "output_type": "execute_result",
          "data": {
            "text/plain": [
              "                  name hair_color skin_color eye_color   sex     gender  \\\n",
              "count               87         82         87        87    83         83   \n",
              "unique              87         12         31        15     4          2   \n",
              "top     Luke Skywalker       none       fair     brown  male  masculine   \n",
              "freq                 1         37         17        21    60         66   \n",
              "\n",
              "       homeworld species  \n",
              "count         77      83  \n",
              "unique        48      37  \n",
              "top        Naboo   Human  \n",
              "freq          11      35  "
            ],
            "text/html": [
              "\n",
              "  <div id=\"df-fb91b754-273e-4bd3-8dbd-5b5e3121c89b\">\n",
              "    <div class=\"colab-df-container\">\n",
              "      <div>\n",
              "<style scoped>\n",
              "    .dataframe tbody tr th:only-of-type {\n",
              "        vertical-align: middle;\n",
              "    }\n",
              "\n",
              "    .dataframe tbody tr th {\n",
              "        vertical-align: top;\n",
              "    }\n",
              "\n",
              "    .dataframe thead th {\n",
              "        text-align: right;\n",
              "    }\n",
              "</style>\n",
              "<table border=\"1\" class=\"dataframe\">\n",
              "  <thead>\n",
              "    <tr style=\"text-align: right;\">\n",
              "      <th></th>\n",
              "      <th>name</th>\n",
              "      <th>hair_color</th>\n",
              "      <th>skin_color</th>\n",
              "      <th>eye_color</th>\n",
              "      <th>sex</th>\n",
              "      <th>gender</th>\n",
              "      <th>homeworld</th>\n",
              "      <th>species</th>\n",
              "    </tr>\n",
              "  </thead>\n",
              "  <tbody>\n",
              "    <tr>\n",
              "      <th>count</th>\n",
              "      <td>87</td>\n",
              "      <td>82</td>\n",
              "      <td>87</td>\n",
              "      <td>87</td>\n",
              "      <td>83</td>\n",
              "      <td>83</td>\n",
              "      <td>77</td>\n",
              "      <td>83</td>\n",
              "    </tr>\n",
              "    <tr>\n",
              "      <th>unique</th>\n",
              "      <td>87</td>\n",
              "      <td>12</td>\n",
              "      <td>31</td>\n",
              "      <td>15</td>\n",
              "      <td>4</td>\n",
              "      <td>2</td>\n",
              "      <td>48</td>\n",
              "      <td>37</td>\n",
              "    </tr>\n",
              "    <tr>\n",
              "      <th>top</th>\n",
              "      <td>Luke Skywalker</td>\n",
              "      <td>none</td>\n",
              "      <td>fair</td>\n",
              "      <td>brown</td>\n",
              "      <td>male</td>\n",
              "      <td>masculine</td>\n",
              "      <td>Naboo</td>\n",
              "      <td>Human</td>\n",
              "    </tr>\n",
              "    <tr>\n",
              "      <th>freq</th>\n",
              "      <td>1</td>\n",
              "      <td>37</td>\n",
              "      <td>17</td>\n",
              "      <td>21</td>\n",
              "      <td>60</td>\n",
              "      <td>66</td>\n",
              "      <td>11</td>\n",
              "      <td>35</td>\n",
              "    </tr>\n",
              "  </tbody>\n",
              "</table>\n",
              "</div>\n",
              "      <button class=\"colab-df-convert\" onclick=\"convertToInteractive('df-fb91b754-273e-4bd3-8dbd-5b5e3121c89b')\"\n",
              "              title=\"Convert this dataframe to an interactive table.\"\n",
              "              style=\"display:none;\">\n",
              "        \n",
              "  <svg xmlns=\"http://www.w3.org/2000/svg\" height=\"24px\"viewBox=\"0 0 24 24\"\n",
              "       width=\"24px\">\n",
              "    <path d=\"M0 0h24v24H0V0z\" fill=\"none\"/>\n",
              "    <path d=\"M18.56 5.44l.94 2.06.94-2.06 2.06-.94-2.06-.94-.94-2.06-.94 2.06-2.06.94zm-11 1L8.5 8.5l.94-2.06 2.06-.94-2.06-.94L8.5 2.5l-.94 2.06-2.06.94zm10 10l.94 2.06.94-2.06 2.06-.94-2.06-.94-.94-2.06-.94 2.06-2.06.94z\"/><path d=\"M17.41 7.96l-1.37-1.37c-.4-.4-.92-.59-1.43-.59-.52 0-1.04.2-1.43.59L10.3 9.45l-7.72 7.72c-.78.78-.78 2.05 0 2.83L4 21.41c.39.39.9.59 1.41.59.51 0 1.02-.2 1.41-.59l7.78-7.78 2.81-2.81c.8-.78.8-2.07 0-2.86zM5.41 20L4 18.59l7.72-7.72 1.47 1.35L5.41 20z\"/>\n",
              "  </svg>\n",
              "      </button>\n",
              "      \n",
              "  <style>\n",
              "    .colab-df-container {\n",
              "      display:flex;\n",
              "      flex-wrap:wrap;\n",
              "      gap: 12px;\n",
              "    }\n",
              "\n",
              "    .colab-df-convert {\n",
              "      background-color: #E8F0FE;\n",
              "      border: none;\n",
              "      border-radius: 50%;\n",
              "      cursor: pointer;\n",
              "      display: none;\n",
              "      fill: #1967D2;\n",
              "      height: 32px;\n",
              "      padding: 0 0 0 0;\n",
              "      width: 32px;\n",
              "    }\n",
              "\n",
              "    .colab-df-convert:hover {\n",
              "      background-color: #E2EBFA;\n",
              "      box-shadow: 0px 1px 2px rgba(60, 64, 67, 0.3), 0px 1px 3px 1px rgba(60, 64, 67, 0.15);\n",
              "      fill: #174EA6;\n",
              "    }\n",
              "\n",
              "    [theme=dark] .colab-df-convert {\n",
              "      background-color: #3B4455;\n",
              "      fill: #D2E3FC;\n",
              "    }\n",
              "\n",
              "    [theme=dark] .colab-df-convert:hover {\n",
              "      background-color: #434B5C;\n",
              "      box-shadow: 0px 1px 3px 1px rgba(0, 0, 0, 0.15);\n",
              "      filter: drop-shadow(0px 1px 2px rgba(0, 0, 0, 0.3));\n",
              "      fill: #FFFFFF;\n",
              "    }\n",
              "  </style>\n",
              "\n",
              "      <script>\n",
              "        const buttonEl =\n",
              "          document.querySelector('#df-fb91b754-273e-4bd3-8dbd-5b5e3121c89b button.colab-df-convert');\n",
              "        buttonEl.style.display =\n",
              "          google.colab.kernel.accessAllowed ? 'block' : 'none';\n",
              "\n",
              "        async function convertToInteractive(key) {\n",
              "          const element = document.querySelector('#df-fb91b754-273e-4bd3-8dbd-5b5e3121c89b');\n",
              "          const dataTable =\n",
              "            await google.colab.kernel.invokeFunction('convertToInteractive',\n",
              "                                                     [key], {});\n",
              "          if (!dataTable) return;\n",
              "\n",
              "          const docLinkHtml = 'Like what you see? Visit the ' +\n",
              "            '<a target=\"_blank\" href=https://colab.research.google.com/notebooks/data_table.ipynb>data table notebook</a>'\n",
              "            + ' to learn more about interactive tables.';\n",
              "          element.innerHTML = '';\n",
              "          dataTable['output_type'] = 'display_data';\n",
              "          await google.colab.output.renderOutput(dataTable, element);\n",
              "          const docLink = document.createElement('div');\n",
              "          docLink.innerHTML = docLinkHtml;\n",
              "          element.appendChild(docLink);\n",
              "        }\n",
              "      </script>\n",
              "    </div>\n",
              "  </div>\n",
              "  "
            ]
          },
          "metadata": {},
          "execution_count": 16
        }
      ]
    },
    {
      "cell_type": "code",
      "metadata": {
        "id": "BH6yxwF06LbW",
        "colab": {
          "base_uri": "https://localhost:8080/"
        },
        "outputId": "c73e993e-2063-4b54-cb79-338967cd2d79"
      },
      "source": [
        "#범주형 데이터 컬럼 안에는 어떤 내용이 들어있을까?\n",
        "print('Hair color: ', sw['hair_color'].unique())\n",
        "print('Skin color: ', sw['skin_color'].unique())\n",
        "print('Eye color: ', sw['eye_color'].unique())\n",
        "print('Sex: ', sw['sex'].unique())\n",
        "print('Gender: ', sw['gender'].unique())\n",
        "print('Homeworld: ', sw['homeworld'].unique())\n",
        "print('Species: ', sw['species'].unique())\n",
        "#범주가 적으면 범주 별 그래프를 그리기 쉽다\n",
        "#이 데이터에서는 sex, gender!"
      ],
      "execution_count": 17,
      "outputs": [
        {
          "output_type": "stream",
          "name": "stdout",
          "text": [
            "Hair color:  ['blond' nan 'none' 'brown' 'brown, grey' 'black' 'auburn, white'\n",
            " 'auburn, grey' 'white' 'grey' 'auburn' 'blonde' 'unknown']\n",
            "Skin color:  ['fair' 'gold' 'white, blue' 'white' 'light' 'white, red' 'unknown'\n",
            " 'green' 'green-tan, brown' 'pale' 'metal' 'dark' 'brown mottle' 'brown'\n",
            " 'grey' 'mottled green' 'orange' 'blue, grey' 'grey, red' 'red' 'blue'\n",
            " 'grey, green, yellow' 'yellow' 'tan' 'fair, green, yellow' 'grey, blue'\n",
            " 'silver, red' 'green, grey' 'red, blue, white' 'brown, white' 'none']\n",
            "Eye color:  ['blue' 'yellow' 'red' 'brown' 'blue-gray' 'black' 'orange' 'hazel' 'pink'\n",
            " 'unknown' 'red, blue' 'gold' 'green, yellow' 'white' 'dark']\n",
            "Sex:  ['male' 'none' 'female' 'hermaphroditic' nan]\n",
            "Gender:  ['masculine' 'feminine' nan]\n",
            "Homeworld:  ['Tatooine' 'Naboo' 'Alderaan' 'Stewjon' 'Eriadu' 'Kashyyyk' 'Corellia'\n",
            " 'Rodia' 'Nal Hutta' 'Bestine IV' nan 'Kamino' 'Trandosha' 'Socorro'\n",
            " 'Bespin' 'Mon Cala' 'Chandrila' 'Endor' 'Sullust' 'Cato Neimoidia'\n",
            " 'Coruscant' 'Toydaria' 'Malastare' 'Dathomir' 'Ryloth' 'Vulpter'\n",
            " 'Troiken' 'Tund' 'Haruun Kal' 'Cerea' 'Glee Anselm' 'Iridonia' 'Iktotch'\n",
            " 'Quermia' 'Dorin' 'Champala' 'Geonosis' 'Mirial' 'Serenno' 'Concord Dawn'\n",
            " 'Zolan' 'Ojom' 'Aleen Minor' 'Skako' 'Muunilinst' 'Shili' 'Kalee'\n",
            " 'Umbara' 'Utapau']\n",
            "Species:  ['Human' 'Droid' 'Wookiee' 'Rodian' 'Hutt' \"Yoda's species\" 'Trandoshan'\n",
            " 'Mon Calamari' 'Ewok' 'Sullustan' 'Neimodian' 'Gungan' nan 'Toydarian'\n",
            " 'Dug' 'Zabrak' \"Twi'lek\" 'Vulptereen' 'Xexto' 'Toong' 'Cerean' 'Nautolan'\n",
            " 'Tholothian' 'Iktotchi' 'Quermian' 'Kel Dor' 'Chagrian' 'Geonosian'\n",
            " 'Mirialan' 'Clawdite' 'Besalisk' 'Kaminoan' 'Aleena' 'Skakoan' 'Muun'\n",
            " 'Togruta' 'Kaleesh' \"Pau'an\"]\n"
          ]
        }
      ]
    },
    {
      "cell_type": "code",
      "source": [
        "sw.shape"
      ],
      "metadata": {
        "colab": {
          "base_uri": "https://localhost:8080/"
        },
        "id": "PFsa2SJRsxD-",
        "outputId": "7def4ba5-013d-4671-d812-4fa9afbd0900"
      },
      "execution_count": 20,
      "outputs": [
        {
          "output_type": "execute_result",
          "data": {
            "text/plain": [
              "(87, 11)"
            ]
          },
          "metadata": {},
          "execution_count": 20
        }
      ]
    },
    {
      "cell_type": "code",
      "source": [
        "sw.shape[0]"
      ],
      "metadata": {
        "colab": {
          "base_uri": "https://localhost:8080/"
        },
        "id": "VXsra4XtsxQ6",
        "outputId": "85c6e13f-ce38-4d71-f8da-516c800ecc1f"
      },
      "execution_count": 21,
      "outputs": [
        {
          "output_type": "execute_result",
          "data": {
            "text/plain": [
              "87"
            ]
          },
          "metadata": {},
          "execution_count": 21
        }
      ]
    },
    {
      "cell_type": "code",
      "source": [
        "sw.shape[1]"
      ],
      "metadata": {
        "colab": {
          "base_uri": "https://localhost:8080/"
        },
        "id": "d0jbvNsVs3gJ",
        "outputId": "e9ecdd82-851d-475c-cb00-86a58b7aff75"
      },
      "execution_count": 22,
      "outputs": [
        {
          "output_type": "execute_result",
          "data": {
            "text/plain": [
              "11"
            ]
          },
          "metadata": {},
          "execution_count": 22
        }
      ]
    },
    {
      "cell_type": "code",
      "source": [
        "sw.isnull().head(2)"
      ],
      "metadata": {
        "colab": {
          "base_uri": "https://localhost:8080/",
          "height": 176
        },
        "id": "LLDZ9liXtJXQ",
        "outputId": "af2efea5-0ab6-4473-9a85-d8aa0eb87b21"
      },
      "execution_count": 24,
      "outputs": [
        {
          "output_type": "execute_result",
          "data": {
            "text/plain": [
              "    name  height   mass  hair_color  skin_color  eye_color  birth_year    sex  \\\n",
              "0  False   False  False       False       False      False       False  False   \n",
              "1  False   False  False        True       False      False       False  False   \n",
              "\n",
              "   gender  homeworld  species  \n",
              "0   False      False    False  \n",
              "1   False      False    False  "
            ],
            "text/html": [
              "\n",
              "  <div id=\"df-ab11dc16-6d10-4d7a-add5-f28f96259007\">\n",
              "    <div class=\"colab-df-container\">\n",
              "      <div>\n",
              "<style scoped>\n",
              "    .dataframe tbody tr th:only-of-type {\n",
              "        vertical-align: middle;\n",
              "    }\n",
              "\n",
              "    .dataframe tbody tr th {\n",
              "        vertical-align: top;\n",
              "    }\n",
              "\n",
              "    .dataframe thead th {\n",
              "        text-align: right;\n",
              "    }\n",
              "</style>\n",
              "<table border=\"1\" class=\"dataframe\">\n",
              "  <thead>\n",
              "    <tr style=\"text-align: right;\">\n",
              "      <th></th>\n",
              "      <th>name</th>\n",
              "      <th>height</th>\n",
              "      <th>mass</th>\n",
              "      <th>hair_color</th>\n",
              "      <th>skin_color</th>\n",
              "      <th>eye_color</th>\n",
              "      <th>birth_year</th>\n",
              "      <th>sex</th>\n",
              "      <th>gender</th>\n",
              "      <th>homeworld</th>\n",
              "      <th>species</th>\n",
              "    </tr>\n",
              "  </thead>\n",
              "  <tbody>\n",
              "    <tr>\n",
              "      <th>0</th>\n",
              "      <td>False</td>\n",
              "      <td>False</td>\n",
              "      <td>False</td>\n",
              "      <td>False</td>\n",
              "      <td>False</td>\n",
              "      <td>False</td>\n",
              "      <td>False</td>\n",
              "      <td>False</td>\n",
              "      <td>False</td>\n",
              "      <td>False</td>\n",
              "      <td>False</td>\n",
              "    </tr>\n",
              "    <tr>\n",
              "      <th>1</th>\n",
              "      <td>False</td>\n",
              "      <td>False</td>\n",
              "      <td>False</td>\n",
              "      <td>True</td>\n",
              "      <td>False</td>\n",
              "      <td>False</td>\n",
              "      <td>False</td>\n",
              "      <td>False</td>\n",
              "      <td>False</td>\n",
              "      <td>False</td>\n",
              "      <td>False</td>\n",
              "    </tr>\n",
              "  </tbody>\n",
              "</table>\n",
              "</div>\n",
              "      <button class=\"colab-df-convert\" onclick=\"convertToInteractive('df-ab11dc16-6d10-4d7a-add5-f28f96259007')\"\n",
              "              title=\"Convert this dataframe to an interactive table.\"\n",
              "              style=\"display:none;\">\n",
              "        \n",
              "  <svg xmlns=\"http://www.w3.org/2000/svg\" height=\"24px\"viewBox=\"0 0 24 24\"\n",
              "       width=\"24px\">\n",
              "    <path d=\"M0 0h24v24H0V0z\" fill=\"none\"/>\n",
              "    <path d=\"M18.56 5.44l.94 2.06.94-2.06 2.06-.94-2.06-.94-.94-2.06-.94 2.06-2.06.94zm-11 1L8.5 8.5l.94-2.06 2.06-.94-2.06-.94L8.5 2.5l-.94 2.06-2.06.94zm10 10l.94 2.06.94-2.06 2.06-.94-2.06-.94-.94-2.06-.94 2.06-2.06.94z\"/><path d=\"M17.41 7.96l-1.37-1.37c-.4-.4-.92-.59-1.43-.59-.52 0-1.04.2-1.43.59L10.3 9.45l-7.72 7.72c-.78.78-.78 2.05 0 2.83L4 21.41c.39.39.9.59 1.41.59.51 0 1.02-.2 1.41-.59l7.78-7.78 2.81-2.81c.8-.78.8-2.07 0-2.86zM5.41 20L4 18.59l7.72-7.72 1.47 1.35L5.41 20z\"/>\n",
              "  </svg>\n",
              "      </button>\n",
              "      \n",
              "  <style>\n",
              "    .colab-df-container {\n",
              "      display:flex;\n",
              "      flex-wrap:wrap;\n",
              "      gap: 12px;\n",
              "    }\n",
              "\n",
              "    .colab-df-convert {\n",
              "      background-color: #E8F0FE;\n",
              "      border: none;\n",
              "      border-radius: 50%;\n",
              "      cursor: pointer;\n",
              "      display: none;\n",
              "      fill: #1967D2;\n",
              "      height: 32px;\n",
              "      padding: 0 0 0 0;\n",
              "      width: 32px;\n",
              "    }\n",
              "\n",
              "    .colab-df-convert:hover {\n",
              "      background-color: #E2EBFA;\n",
              "      box-shadow: 0px 1px 2px rgba(60, 64, 67, 0.3), 0px 1px 3px 1px rgba(60, 64, 67, 0.15);\n",
              "      fill: #174EA6;\n",
              "    }\n",
              "\n",
              "    [theme=dark] .colab-df-convert {\n",
              "      background-color: #3B4455;\n",
              "      fill: #D2E3FC;\n",
              "    }\n",
              "\n",
              "    [theme=dark] .colab-df-convert:hover {\n",
              "      background-color: #434B5C;\n",
              "      box-shadow: 0px 1px 3px 1px rgba(0, 0, 0, 0.15);\n",
              "      filter: drop-shadow(0px 1px 2px rgba(0, 0, 0, 0.3));\n",
              "      fill: #FFFFFF;\n",
              "    }\n",
              "  </style>\n",
              "\n",
              "      <script>\n",
              "        const buttonEl =\n",
              "          document.querySelector('#df-ab11dc16-6d10-4d7a-add5-f28f96259007 button.colab-df-convert');\n",
              "        buttonEl.style.display =\n",
              "          google.colab.kernel.accessAllowed ? 'block' : 'none';\n",
              "\n",
              "        async function convertToInteractive(key) {\n",
              "          const element = document.querySelector('#df-ab11dc16-6d10-4d7a-add5-f28f96259007');\n",
              "          const dataTable =\n",
              "            await google.colab.kernel.invokeFunction('convertToInteractive',\n",
              "                                                     [key], {});\n",
              "          if (!dataTable) return;\n",
              "\n",
              "          const docLinkHtml = 'Like what you see? Visit the ' +\n",
              "            '<a target=\"_blank\" href=https://colab.research.google.com/notebooks/data_table.ipynb>data table notebook</a>'\n",
              "            + ' to learn more about interactive tables.';\n",
              "          element.innerHTML = '';\n",
              "          dataTable['output_type'] = 'display_data';\n",
              "          await google.colab.output.renderOutput(dataTable, element);\n",
              "          const docLink = document.createElement('div');\n",
              "          docLink.innerHTML = docLinkHtml;\n",
              "          element.appendChild(docLink);\n",
              "        }\n",
              "      </script>\n",
              "    </div>\n",
              "  </div>\n",
              "  "
            ]
          },
          "metadata": {},
          "execution_count": 24
        }
      ]
    },
    {
      "cell_type": "code",
      "source": [
        "sw.isnull().sum()"
      ],
      "metadata": {
        "colab": {
          "base_uri": "https://localhost:8080/"
        },
        "id": "FiVg-eGitLHK",
        "outputId": "bab55e6f-9b2c-4bcf-e4b8-12fc01b7cb99"
      },
      "execution_count": 25,
      "outputs": [
        {
          "output_type": "execute_result",
          "data": {
            "text/plain": [
              "name           0\n",
              "height         6\n",
              "mass          28\n",
              "hair_color     5\n",
              "skin_color     0\n",
              "eye_color      0\n",
              "birth_year    44\n",
              "sex            4\n",
              "gender         4\n",
              "homeworld     10\n",
              "species        4\n",
              "dtype: int64"
            ]
          },
          "metadata": {},
          "execution_count": 25
        }
      ]
    },
    {
      "cell_type": "code",
      "source": [
        "sw.isnull().sum().sum()"
      ],
      "metadata": {
        "colab": {
          "base_uri": "https://localhost:8080/"
        },
        "id": "qgwWW--LtLLA",
        "outputId": "bf5211f2-65f0-4024-adc5-d76e533f1fe9"
      },
      "execution_count": 26,
      "outputs": [
        {
          "output_type": "execute_result",
          "data": {
            "text/plain": [
              "105"
            ]
          },
          "metadata": {},
          "execution_count": 26
        }
      ]
    },
    {
      "cell_type": "code",
      "metadata": {
        "id": "gB_Q12HUFP-s",
        "colab": {
          "base_uri": "https://localhost:8080/"
        },
        "outputId": "3e3b5c14-3c2a-4fa0-b7a7-6ebb33a37af1"
      },
      "source": [
        "#데이터 내용 간단히 정리해서 출력하기\n",
        "print(\"총 데이터 개수: \", sw.shape[0]*sw.shape[1])\n",
        "print(\"총 결측치 수: {} = 전체 데이터의 {:.2f}% \".format(sw.isnull().sum().sum(), (sw.isnull().sum().sum()*100)/(sw.shape[0]*sw.shape[1])))\n",
        "print(\"스타워즈에 등장하는 등장인물 수: \", sw['name'].nunique())\n",
        "print(\"스타워즈에 등장하는 종족 수: \", sw['species'].nunique())"
      ],
      "execution_count": 31,
      "outputs": [
        {
          "output_type": "stream",
          "name": "stdout",
          "text": [
            "총 데이터 개수:  957\n",
            "총 결측치 수: 105 = 전체 데이터의 10.97% \n",
            "스타워즈에 등장하는 등장인물 수:  87\n",
            "스타워즈에 등장하는 종족 수:  37\n"
          ]
        }
      ]
    },
    {
      "cell_type": "markdown",
      "metadata": {
        "id": "pIJrMgjSTZRU"
      },
      "source": [
        "##2.데이터를 보고 질문 만들기\n",
        "* 스타워즈 캐릭터의 성별 비율은?\n",
        "* 성별에 따른 캐릭터 신장의 분포는?\n",
        "* 가장 무거운 캐릭터와 가장 가벼운 캐릭터는?\n",
        "* 스타워즈 캐릭터의 키와 몸무게는 상관관계를 가질까?"
      ]
    },
    {
      "cell_type": "markdown",
      "metadata": {
        "id": "t_Lgxtx173SN"
      },
      "source": [
        "##3.데이터 정비하기"
      ]
    },
    {
      "cell_type": "markdown",
      "metadata": {
        "id": "3vLtXt7C8AQ2"
      },
      "source": [
        "###3-1.결측치 처리하기"
      ]
    },
    {
      "cell_type": "code",
      "metadata": {
        "id": "kI-6N8XQ78Jw",
        "colab": {
          "base_uri": "https://localhost:8080/"
        },
        "outputId": "951496d3-cd38-4bd3-e5cf-e6dde48f698e"
      },
      "source": [
        "#NULL이 존재하는 컬럼 확인하기 \n",
        "sw.isnull().any(axis=0)\n",
        "#height, mass, type, x, y 컬럼에 NaN 존재한다"
      ],
      "execution_count": 33,
      "outputs": [
        {
          "output_type": "execute_result",
          "data": {
            "text/plain": [
              "name          False\n",
              "height         True\n",
              "mass           True\n",
              "hair_color     True\n",
              "skin_color    False\n",
              "eye_color     False\n",
              "birth_year     True\n",
              "sex            True\n",
              "gender         True\n",
              "homeworld      True\n",
              "species        True\n",
              "dtype: bool"
            ]
          },
          "metadata": {},
          "execution_count": 33
        }
      ]
    },
    {
      "cell_type": "code",
      "metadata": {
        "id": "PRVc91Hjqr5r",
        "colab": {
          "base_uri": "https://localhost:8080/"
        },
        "outputId": "b2a00f29-06bf-4a50-c591-8ef0d08d46c2"
      },
      "source": [
        "#컬럼별로 NULL 개수 확인하기\n",
        "sw.isnull().sum()"
      ],
      "execution_count": 34,
      "outputs": [
        {
          "output_type": "execute_result",
          "data": {
            "text/plain": [
              "name           0\n",
              "height         6\n",
              "mass          28\n",
              "hair_color     5\n",
              "skin_color     0\n",
              "eye_color      0\n",
              "birth_year    44\n",
              "sex            4\n",
              "gender         4\n",
              "homeworld     10\n",
              "species        4\n",
              "dtype: int64"
            ]
          },
          "metadata": {},
          "execution_count": 34
        }
      ]
    },
    {
      "cell_type": "code",
      "metadata": {
        "id": "RgfqlFND6yfi",
        "colab": {
          "base_uri": "https://localhost:8080/",
          "height": 322
        },
        "outputId": "ea58167f-85ec-413c-ffea-ee135fec3bbb"
      },
      "source": [
        "#어떤 컬럼의 결측치를 처리할것인가?\n",
        "#hair color, sex, gender, homeworld, species의 경우 개인 특성이므로 다른 값을 넣어주는 것이 의미가 없다\n",
        "#height, mass에서는 결측치를 0으로 처리해보자\n",
        "sw['height'].fillna(0, inplace=True)\n",
        "sw['mass'].fillna(0, inplace=True)\n",
        "sw.head()"
      ],
      "execution_count": 37,
      "outputs": [
        {
          "output_type": "execute_result",
          "data": {
            "text/plain": [
              "             name  height   mass hair_color   skin_color eye_color  \\\n",
              "0  Luke Skywalker   172.0   77.0      blond         fair      blue   \n",
              "1           C-3PO   167.0   75.0        NaN         gold    yellow   \n",
              "2           R2-D2    96.0   32.0        NaN  white, blue       red   \n",
              "3     Darth Vader   202.0  136.0       none        white    yellow   \n",
              "4     Leia Organa   150.0   49.0      brown        light     brown   \n",
              "\n",
              "   birth_year     sex     gender homeworld species  \n",
              "0        19.0    male  masculine  Tatooine   Human  \n",
              "1       112.0    none  masculine  Tatooine   Droid  \n",
              "2        33.0    none  masculine     Naboo   Droid  \n",
              "3        41.9    male  masculine  Tatooine   Human  \n",
              "4        19.0  female   feminine  Alderaan   Human  "
            ],
            "text/html": [
              "\n",
              "  <div id=\"df-3d149b86-a2d4-4e61-bd5a-87cfcb64d998\">\n",
              "    <div class=\"colab-df-container\">\n",
              "      <div>\n",
              "<style scoped>\n",
              "    .dataframe tbody tr th:only-of-type {\n",
              "        vertical-align: middle;\n",
              "    }\n",
              "\n",
              "    .dataframe tbody tr th {\n",
              "        vertical-align: top;\n",
              "    }\n",
              "\n",
              "    .dataframe thead th {\n",
              "        text-align: right;\n",
              "    }\n",
              "</style>\n",
              "<table border=\"1\" class=\"dataframe\">\n",
              "  <thead>\n",
              "    <tr style=\"text-align: right;\">\n",
              "      <th></th>\n",
              "      <th>name</th>\n",
              "      <th>height</th>\n",
              "      <th>mass</th>\n",
              "      <th>hair_color</th>\n",
              "      <th>skin_color</th>\n",
              "      <th>eye_color</th>\n",
              "      <th>birth_year</th>\n",
              "      <th>sex</th>\n",
              "      <th>gender</th>\n",
              "      <th>homeworld</th>\n",
              "      <th>species</th>\n",
              "    </tr>\n",
              "  </thead>\n",
              "  <tbody>\n",
              "    <tr>\n",
              "      <th>0</th>\n",
              "      <td>Luke Skywalker</td>\n",
              "      <td>172.0</td>\n",
              "      <td>77.0</td>\n",
              "      <td>blond</td>\n",
              "      <td>fair</td>\n",
              "      <td>blue</td>\n",
              "      <td>19.0</td>\n",
              "      <td>male</td>\n",
              "      <td>masculine</td>\n",
              "      <td>Tatooine</td>\n",
              "      <td>Human</td>\n",
              "    </tr>\n",
              "    <tr>\n",
              "      <th>1</th>\n",
              "      <td>C-3PO</td>\n",
              "      <td>167.0</td>\n",
              "      <td>75.0</td>\n",
              "      <td>NaN</td>\n",
              "      <td>gold</td>\n",
              "      <td>yellow</td>\n",
              "      <td>112.0</td>\n",
              "      <td>none</td>\n",
              "      <td>masculine</td>\n",
              "      <td>Tatooine</td>\n",
              "      <td>Droid</td>\n",
              "    </tr>\n",
              "    <tr>\n",
              "      <th>2</th>\n",
              "      <td>R2-D2</td>\n",
              "      <td>96.0</td>\n",
              "      <td>32.0</td>\n",
              "      <td>NaN</td>\n",
              "      <td>white, blue</td>\n",
              "      <td>red</td>\n",
              "      <td>33.0</td>\n",
              "      <td>none</td>\n",
              "      <td>masculine</td>\n",
              "      <td>Naboo</td>\n",
              "      <td>Droid</td>\n",
              "    </tr>\n",
              "    <tr>\n",
              "      <th>3</th>\n",
              "      <td>Darth Vader</td>\n",
              "      <td>202.0</td>\n",
              "      <td>136.0</td>\n",
              "      <td>none</td>\n",
              "      <td>white</td>\n",
              "      <td>yellow</td>\n",
              "      <td>41.9</td>\n",
              "      <td>male</td>\n",
              "      <td>masculine</td>\n",
              "      <td>Tatooine</td>\n",
              "      <td>Human</td>\n",
              "    </tr>\n",
              "    <tr>\n",
              "      <th>4</th>\n",
              "      <td>Leia Organa</td>\n",
              "      <td>150.0</td>\n",
              "      <td>49.0</td>\n",
              "      <td>brown</td>\n",
              "      <td>light</td>\n",
              "      <td>brown</td>\n",
              "      <td>19.0</td>\n",
              "      <td>female</td>\n",
              "      <td>feminine</td>\n",
              "      <td>Alderaan</td>\n",
              "      <td>Human</td>\n",
              "    </tr>\n",
              "  </tbody>\n",
              "</table>\n",
              "</div>\n",
              "      <button class=\"colab-df-convert\" onclick=\"convertToInteractive('df-3d149b86-a2d4-4e61-bd5a-87cfcb64d998')\"\n",
              "              title=\"Convert this dataframe to an interactive table.\"\n",
              "              style=\"display:none;\">\n",
              "        \n",
              "  <svg xmlns=\"http://www.w3.org/2000/svg\" height=\"24px\"viewBox=\"0 0 24 24\"\n",
              "       width=\"24px\">\n",
              "    <path d=\"M0 0h24v24H0V0z\" fill=\"none\"/>\n",
              "    <path d=\"M18.56 5.44l.94 2.06.94-2.06 2.06-.94-2.06-.94-.94-2.06-.94 2.06-2.06.94zm-11 1L8.5 8.5l.94-2.06 2.06-.94-2.06-.94L8.5 2.5l-.94 2.06-2.06.94zm10 10l.94 2.06.94-2.06 2.06-.94-2.06-.94-.94-2.06-.94 2.06-2.06.94z\"/><path d=\"M17.41 7.96l-1.37-1.37c-.4-.4-.92-.59-1.43-.59-.52 0-1.04.2-1.43.59L10.3 9.45l-7.72 7.72c-.78.78-.78 2.05 0 2.83L4 21.41c.39.39.9.59 1.41.59.51 0 1.02-.2 1.41-.59l7.78-7.78 2.81-2.81c.8-.78.8-2.07 0-2.86zM5.41 20L4 18.59l7.72-7.72 1.47 1.35L5.41 20z\"/>\n",
              "  </svg>\n",
              "      </button>\n",
              "      \n",
              "  <style>\n",
              "    .colab-df-container {\n",
              "      display:flex;\n",
              "      flex-wrap:wrap;\n",
              "      gap: 12px;\n",
              "    }\n",
              "\n",
              "    .colab-df-convert {\n",
              "      background-color: #E8F0FE;\n",
              "      border: none;\n",
              "      border-radius: 50%;\n",
              "      cursor: pointer;\n",
              "      display: none;\n",
              "      fill: #1967D2;\n",
              "      height: 32px;\n",
              "      padding: 0 0 0 0;\n",
              "      width: 32px;\n",
              "    }\n",
              "\n",
              "    .colab-df-convert:hover {\n",
              "      background-color: #E2EBFA;\n",
              "      box-shadow: 0px 1px 2px rgba(60, 64, 67, 0.3), 0px 1px 3px 1px rgba(60, 64, 67, 0.15);\n",
              "      fill: #174EA6;\n",
              "    }\n",
              "\n",
              "    [theme=dark] .colab-df-convert {\n",
              "      background-color: #3B4455;\n",
              "      fill: #D2E3FC;\n",
              "    }\n",
              "\n",
              "    [theme=dark] .colab-df-convert:hover {\n",
              "      background-color: #434B5C;\n",
              "      box-shadow: 0px 1px 3px 1px rgba(0, 0, 0, 0.15);\n",
              "      filter: drop-shadow(0px 1px 2px rgba(0, 0, 0, 0.3));\n",
              "      fill: #FFFFFF;\n",
              "    }\n",
              "  </style>\n",
              "\n",
              "      <script>\n",
              "        const buttonEl =\n",
              "          document.querySelector('#df-3d149b86-a2d4-4e61-bd5a-87cfcb64d998 button.colab-df-convert');\n",
              "        buttonEl.style.display =\n",
              "          google.colab.kernel.accessAllowed ? 'block' : 'none';\n",
              "\n",
              "        async function convertToInteractive(key) {\n",
              "          const element = document.querySelector('#df-3d149b86-a2d4-4e61-bd5a-87cfcb64d998');\n",
              "          const dataTable =\n",
              "            await google.colab.kernel.invokeFunction('convertToInteractive',\n",
              "                                                     [key], {});\n",
              "          if (!dataTable) return;\n",
              "\n",
              "          const docLinkHtml = 'Like what you see? Visit the ' +\n",
              "            '<a target=\"_blank\" href=https://colab.research.google.com/notebooks/data_table.ipynb>data table notebook</a>'\n",
              "            + ' to learn more about interactive tables.';\n",
              "          element.innerHTML = '';\n",
              "          dataTable['output_type'] = 'display_data';\n",
              "          await google.colab.output.renderOutput(dataTable, element);\n",
              "          const docLink = document.createElement('div');\n",
              "          docLink.innerHTML = docLinkHtml;\n",
              "          element.appendChild(docLink);\n",
              "        }\n",
              "      </script>\n",
              "    </div>\n",
              "  </div>\n",
              "  "
            ]
          },
          "metadata": {},
          "execution_count": 37
        }
      ]
    },
    {
      "cell_type": "code",
      "metadata": {
        "id": "nG4tyoQuTSOe",
        "colab": {
          "base_uri": "https://localhost:8080/"
        },
        "outputId": "13af55fc-37a9-463c-bd85-53b021cbf49b"
      },
      "source": [
        "#sex에 none도 있고 NaN도 있다? \n",
        "print(sw[sw['sex'] == 'none'])\n",
        "print(sw[sw['sex'].isnull()])"
      ],
      "execution_count": 38,
      "outputs": [
        {
          "output_type": "stream",
          "name": "stdout",
          "text": [
            "      name  height   mass hair_color   skin_color  eye_color  birth_year  \\\n",
            "1    C-3PO   167.0   75.0        NaN         gold     yellow       112.0   \n",
            "2    R2-D2    96.0   32.0        NaN  white, blue        red        33.0   \n",
            "7    R5-D4    97.0   32.0        NaN   white, red        red         NaN   \n",
            "21   IG-88   200.0  140.0       none        metal        red        15.0   \n",
            "72  R4-P17    96.0    0.0       none  silver, red  red, blue         NaN   \n",
            "84     BB8     0.0    0.0       none         none      black         NaN   \n",
            "\n",
            "     sex     gender homeworld species  \n",
            "1   none  masculine  Tatooine   Droid  \n",
            "2   none  masculine     Naboo   Droid  \n",
            "7   none  masculine  Tatooine   Droid  \n",
            "21  none  masculine       NaN   Droid  \n",
            "72  none   feminine       NaN   Droid  \n",
            "84  none  masculine       NaN   Droid  \n",
            "              name  height  mass hair_color skin_color eye_color  birth_year  \\\n",
            "36        Ric Oli?   183.0   0.0      brown       fair      blue         NaN   \n",
            "39   Quarsh Panaka   183.0   0.0      black       dark     brown        62.0   \n",
            "79       Sly Moore   178.0  48.0       none       pale     white         NaN   \n",
            "85  Captain Phasma     0.0   0.0    unknown    unknown   unknown         NaN   \n",
            "\n",
            "    sex gender homeworld species  \n",
            "36  NaN    NaN     Naboo     NaN  \n",
            "39  NaN    NaN     Naboo     NaN  \n",
            "79  NaN    NaN    Umbara     NaN  \n",
            "85  NaN    NaN       NaN     NaN  \n"
          ]
        }
      ]
    },
    {
      "cell_type": "code",
      "source": [
        "sw['sex'].unique()"
      ],
      "metadata": {
        "colab": {
          "base_uri": "https://localhost:8080/"
        },
        "id": "d7DXwJIUupp-",
        "outputId": "95a355c7-80a4-48c4-f8f3-620fe1d8846b"
      },
      "execution_count": 39,
      "outputs": [
        {
          "output_type": "execute_result",
          "data": {
            "text/plain": [
              "array(['male', 'none', 'female', 'hermaphroditic', nan], dtype=object)"
            ]
          },
          "metadata": {},
          "execution_count": 39
        }
      ]
    },
    {
      "cell_type": "code",
      "metadata": {
        "id": "cZ5cadM6UTAQ",
        "colab": {
          "base_uri": "https://localhost:8080/"
        },
        "outputId": "0f526599-544c-4da8-a549-e0bace3e71db"
      },
      "source": [
        "#sex = none 인 것들은 species = Droid이므로, 컬럼 내용을 바꿔보자\n",
        "sw['sex'][sw['sex']=='none']= 'robot'\n",
        "print('Sex: ', sw['sex'].unique())"
      ],
      "execution_count": 40,
      "outputs": [
        {
          "output_type": "stream",
          "name": "stdout",
          "text": [
            "Sex:  ['male' 'robot' 'female' 'hermaphroditic' nan]\n"
          ]
        },
        {
          "output_type": "stream",
          "name": "stderr",
          "text": [
            "<ipython-input-40-77ccc9be43e1>:2: SettingWithCopyWarning: \n",
            "A value is trying to be set on a copy of a slice from a DataFrame\n",
            "\n",
            "See the caveats in the documentation: https://pandas.pydata.org/pandas-docs/stable/user_guide/indexing.html#returning-a-view-versus-a-copy\n",
            "  sw['sex'][sw['sex']=='none']= 'robot'\n"
          ]
        }
      ]
    },
    {
      "cell_type": "markdown",
      "metadata": {
        "id": "hbEQOtz_Nn-6"
      },
      "source": [
        "##4.EDA & Visualization"
      ]
    },
    {
      "cell_type": "markdown",
      "metadata": {
        "id": "Da91oKSnWxsV"
      },
      "source": [
        "###4-1. 스타워즈 캐릭터의 성별 비율"
      ]
    },
    {
      "cell_type": "code",
      "metadata": {
        "id": "Vu249uRYEkHv",
        "colab": {
          "base_uri": "https://localhost:8080/"
        },
        "outputId": "0c89843a-0045-4e93-ece7-d34b543c47ac"
      },
      "source": [
        "#스타워즈 캐릭터의 성비(sex, gender)는?\n",
        "sw['sex'].value_counts()"
      ],
      "execution_count": 41,
      "outputs": [
        {
          "output_type": "execute_result",
          "data": {
            "text/plain": [
              "male              60\n",
              "female            16\n",
              "robot              6\n",
              "hermaphroditic     1\n",
              "Name: sex, dtype: int64"
            ]
          },
          "metadata": {},
          "execution_count": 41
        }
      ]
    },
    {
      "cell_type": "code",
      "source": [
        "sw['gender'].value_counts()"
      ],
      "metadata": {
        "colab": {
          "base_uri": "https://localhost:8080/"
        },
        "id": "68JBjYnXvLO-",
        "outputId": "b35def27-fd03-4218-d3bc-7b5c2ba42d4a"
      },
      "execution_count": 43,
      "outputs": [
        {
          "output_type": "execute_result",
          "data": {
            "text/plain": [
              "masculine    66\n",
              "feminine     17\n",
              "Name: gender, dtype: int64"
            ]
          },
          "metadata": {},
          "execution_count": 43
        }
      ]
    },
    {
      "cell_type": "code",
      "metadata": {
        "id": "-ByHlT4UWvpQ",
        "colab": {
          "base_uri": "https://localhost:8080/",
          "height": 343
        },
        "outputId": "531869d8-5b05-4e2c-bd6c-874d774e1430"
      },
      "source": [
        "f, ax = plt.subplots(1, 2, figsize=(18, 8)) #그래프 틀 정하기 -> 1행 1열\n",
        "\n",
        "sw['gender'].value_counts().plot.pie(ax=ax[0],\n",
        "                                     autopct='%1.0f%%',\n",
        "                                     shadow=True) #파이그래프 그리기\n",
        "ax[0].set_title('Starwars:Gender',\n",
        "                size=18) #그래프 제목\n",
        "ax[0].set_ylabel('') #y 라벨 없애기\n",
        "\n",
        "#sns.countplot\n",
        "#항목별 갯수를 세어주는 countplot\n",
        "#알아서 해당 column을 구성하고 있는 value들을 구분하여 보여준다.\n",
        "# 차트 가로로 그리기 : x를 y로 변경하면 세로에서 가로 차트로 변경 가능\n",
        "sns.countplot(data=sw,\n",
        "              y='sex',\n",
        "              ax = ax[1])\n",
        "ax[1].set_title('Starwars:Sex',\n",
        "                size=18) #그래프 제목\n",
        "\n",
        "plt.show()"
      ],
      "execution_count": 44,
      "outputs": [
        {
          "output_type": "display_data",
          "data": {
            "text/plain": [
              "<Figure size 1296x576 with 2 Axes>"
            ],
            "image/png": "[encoded data removed]"
          },
          "metadata": {}
        }
      ]
    },
    {
      "cell_type": "markdown",
      "metadata": {
        "id": "C2AEfyjvSMQj"
      },
      "source": [
        "###4-2. 스타워즈 캐릭터의 성별에 따른 신장 분포"
      ]
    },
    {
      "cell_type": "code",
      "metadata": {
        "id": "zbxh0io5mXJ2",
        "colab": {
          "base_uri": "https://localhost:8080/"
        },
        "outputId": "4b31a22f-a4fd-4db7-87c2-55f0eae0d581"
      },
      "source": [
        "#스타워즈 캐릭터의 신장 확인하기\n",
        "#연속형(수치) 데이터의 통계치 확인하기: 최솟값과 최댓값\n",
        "sw['height'].describe()"
      ],
      "execution_count": 45,
      "outputs": [
        {
          "output_type": "execute_result",
          "data": {
            "text/plain": [
              "count     87.000000\n",
              "mean     162.333333\n",
              "std       55.671726\n",
              "min        0.000000\n",
              "25%      164.000000\n",
              "50%      178.000000\n",
              "75%      190.500000\n",
              "max      264.000000\n",
              "Name: height, dtype: float64"
            ]
          },
          "metadata": {},
          "execution_count": 45
        }
      ]
    },
    {
      "cell_type": "code",
      "metadata": {
        "id": "Yo27gESEmqkP",
        "colab": {
          "base_uri": "https://localhost:8080/"
        },
        "outputId": "8880fe03-b584-4935-a030-fe8cee4fa866"
      },
      "source": [
        "#skewness and kurtosis 구하기\n",
        "#Skewness(왜도): 데이터가 정규분포에서 한 쪽으로 치우쳐있는가?\n",
        "#                -3 < skewness < 3 사이의 값이면 기준에 부합한다\n",
        "#Kurtosis(첨도): 얼마나 뾰족한가(데이터가 얼마나 평균 근처에 몰려있는가)?\n",
        "#               : 정규분포의 kurtosis = 0\n",
        "print(\"Skewness: %f\" % sw['height'].skew())\n",
        "print(\"Kurtosis: %f\" % sw['height'].kurt())"
      ],
      "execution_count": 47,
      "outputs": [
        {
          "output_type": "stream",
          "name": "stdout",
          "text": [
            "Skewness: -1.760878\n",
            "Kurtosis: 2.927697\n"
          ]
        }
      ]
    },
    {
      "cell_type": "code",
      "metadata": {
        "id": "nlTtSH7vVduW",
        "colab": {
          "base_uri": "https://localhost:8080/",
          "height": 179
        },
        "outputId": "7f2631ce-98ea-43ef-f672-cbc539960caa"
      },
      "source": [
        "#자웅동체(hermaphroditic) 캐릭터(Jabba Desilijic Tiure)는 하나 뿐이므로 확률분포를 구하는것이 불가능!\n",
        "sw[sw['sex'] == 'hermaphroditic'].head()"
      ],
      "execution_count": 49,
      "outputs": [
        {
          "output_type": "execute_result",
          "data": {
            "text/plain": [
              "                     name  height    mass hair_color        skin_color  \\\n",
              "15  Jabba Desilijic Tiure   175.0  1358.0        NaN  green-tan, brown   \n",
              "\n",
              "   eye_color  birth_year             sex     gender  homeworld species  \n",
              "15    orange       600.0  hermaphroditic  masculine  Nal Hutta    Hutt  "
            ],
            "text/html": [
              "\n",
              "  <div id=\"df-81edee13-c30d-44f7-bf13-a03f60db1f70\">\n",
              "    <div class=\"colab-df-container\">\n",
              "      <div>\n",
              "<style scoped>\n",
              "    .dataframe tbody tr th:only-of-type {\n",
              "        vertical-align: middle;\n",
              "    }\n",
              "\n",
              "    .dataframe tbody tr th {\n",
              "        vertical-align: top;\n",
              "    }\n",
              "\n",
              "    .dataframe thead th {\n",
              "        text-align: right;\n",
              "    }\n",
              "</style>\n",
              "<table border=\"1\" class=\"dataframe\">\n",
              "  <thead>\n",
              "    <tr style=\"text-align: right;\">\n",
              "      <th></th>\n",
              "      <th>name</th>\n",
              "      <th>height</th>\n",
              "      <th>mass</th>\n",
              "      <th>hair_color</th>\n",
              "      <th>skin_color</th>\n",
              "      <th>eye_color</th>\n",
              "      <th>birth_year</th>\n",
              "      <th>sex</th>\n",
              "      <th>gender</th>\n",
              "      <th>homeworld</th>\n",
              "      <th>species</th>\n",
              "    </tr>\n",
              "  </thead>\n",
              "  <tbody>\n",
              "    <tr>\n",
              "      <th>15</th>\n",
              "      <td>Jabba Desilijic Tiure</td>\n",
              "      <td>175.0</td>\n",
              "      <td>1358.0</td>\n",
              "      <td>NaN</td>\n",
              "      <td>green-tan, brown</td>\n",
              "      <td>orange</td>\n",
              "      <td>600.0</td>\n",
              "      <td>hermaphroditic</td>\n",
              "      <td>masculine</td>\n",
              "      <td>Nal Hutta</td>\n",
              "      <td>Hutt</td>\n",
              "    </tr>\n",
              "  </tbody>\n",
              "</table>\n",
              "</div>\n",
              "      <button class=\"colab-df-convert\" onclick=\"convertToInteractive('df-81edee13-c30d-44f7-bf13-a03f60db1f70')\"\n",
              "              title=\"Convert this dataframe to an interactive table.\"\n",
              "              style=\"display:none;\">\n",
              "        \n",
              "  <svg xmlns=\"http://www.w3.org/2000/svg\" height=\"24px\"viewBox=\"0 0 24 24\"\n",
              "       width=\"24px\">\n",
              "    <path d=\"M0 0h24v24H0V0z\" fill=\"none\"/>\n",
              "    <path d=\"M18.56 5.44l.94 2.06.94-2.06 2.06-.94-2.06-.94-.94-2.06-.94 2.06-2.06.94zm-11 1L8.5 8.5l.94-2.06 2.06-.94-2.06-.94L8.5 2.5l-.94 2.06-2.06.94zm10 10l.94 2.06.94-2.06 2.06-.94-2.06-.94-.94-2.06-.94 2.06-2.06.94z\"/><path d=\"M17.41 7.96l-1.37-1.37c-.4-.4-.92-.59-1.43-.59-.52 0-1.04.2-1.43.59L10.3 9.45l-7.72 7.72c-.78.78-.78 2.05 0 2.83L4 21.41c.39.39.9.59 1.41.59.51 0 1.02-.2 1.41-.59l7.78-7.78 2.81-2.81c.8-.78.8-2.07 0-2.86zM5.41 20L4 18.59l7.72-7.72 1.47 1.35L5.41 20z\"/>\n",
              "  </svg>\n",
              "      </button>\n",
              "      \n",
              "  <style>\n",
              "    .colab-df-container {\n",
              "      display:flex;\n",
              "      flex-wrap:wrap;\n",
              "      gap: 12px;\n",
              "    }\n",
              "\n",
              "    .colab-df-convert {\n",
              "      background-color: #E8F0FE;\n",
              "      border: none;\n",
              "      border-radius: 50%;\n",
              "      cursor: pointer;\n",
              "      display: none;\n",
              "      fill: #1967D2;\n",
              "      height: 32px;\n",
              "      padding: 0 0 0 0;\n",
              "      width: 32px;\n",
              "    }\n",
              "\n",
              "    .colab-df-convert:hover {\n",
              "      background-color: #E2EBFA;\n",
              "      box-shadow: 0px 1px 2px rgba(60, 64, 67, 0.3), 0px 1px 3px 1px rgba(60, 64, 67, 0.15);\n",
              "      fill: #174EA6;\n",
              "    }\n",
              "\n",
              "    [theme=dark] .colab-df-convert {\n",
              "      background-color: #3B4455;\n",
              "      fill: #D2E3FC;\n",
              "    }\n",
              "\n",
              "    [theme=dark] .colab-df-convert:hover {\n",
              "      background-color: #434B5C;\n",
              "      box-shadow: 0px 1px 3px 1px rgba(0, 0, 0, 0.15);\n",
              "      filter: drop-shadow(0px 1px 2px rgba(0, 0, 0, 0.3));\n",
              "      fill: #FFFFFF;\n",
              "    }\n",
              "  </style>\n",
              "\n",
              "      <script>\n",
              "        const buttonEl =\n",
              "          document.querySelector('#df-81edee13-c30d-44f7-bf13-a03f60db1f70 button.colab-df-convert');\n",
              "        buttonEl.style.display =\n",
              "          google.colab.kernel.accessAllowed ? 'block' : 'none';\n",
              "\n",
              "        async function convertToInteractive(key) {\n",
              "          const element = document.querySelector('#df-81edee13-c30d-44f7-bf13-a03f60db1f70');\n",
              "          const dataTable =\n",
              "            await google.colab.kernel.invokeFunction('convertToInteractive',\n",
              "                                                     [key], {});\n",
              "          if (!dataTable) return;\n",
              "\n",
              "          const docLinkHtml = 'Like what you see? Visit the ' +\n",
              "            '<a target=\"_blank\" href=https://colab.research.google.com/notebooks/data_table.ipynb>data table notebook</a>'\n",
              "            + ' to learn more about interactive tables.';\n",
              "          element.innerHTML = '';\n",
              "          dataTable['output_type'] = 'display_data';\n",
              "          await google.colab.output.renderOutput(dataTable, element);\n",
              "          const docLink = document.createElement('div');\n",
              "          docLink.innerHTML = docLinkHtml;\n",
              "          element.appendChild(docLink);\n",
              "        }\n",
              "      </script>\n",
              "    </div>\n",
              "  </div>\n",
              "  "
            ]
          },
          "metadata": {},
          "execution_count": 49
        }
      ]
    },
    {
      "cell_type": "code",
      "metadata": {
        "id": "UkRl3_9MNgPg",
        "colab": {
          "base_uri": "https://localhost:8080/",
          "height": 236
        },
        "outputId": "71c0c3f9-b9e5-43a1-bd23-9dbe73272b63"
      },
      "source": [
        "#성별에 따른 스타워즈 캐릭터의 신장 분포 그래프\n",
        "#자웅동체 캐릭터(Jabba Desilijic Tiure)는 하나 뿐이므로 확률분포를 구하는것이 불가능!\n",
        "\n",
        "fig, ax = plt.subplots(1, 2, figsize=(16, 5))\n",
        "\n",
        "#sns.distplot\n",
        "sns.distplot(sw[sw['sex'] == 'male']['height'], ax=ax[0])\n",
        "sns.distplot(sw[sw['sex'] == 'female']['height'], ax=ax[0])\n",
        "sns.distplot(sw[sw['sex'] == 'robot']['height'], ax=ax[0])\n",
        "ax[0].legend(['Male','Female','Robot'])\n",
        "\n",
        "#sns.kdeplot\n",
        "sns.kdeplot(sw[sw['gender'] == 'masculine']['height'], ax=ax[1])\n",
        "sns.kdeplot(sw[sw['gender'] == 'feminine']['height'], ax=ax[1])\n",
        "ax[1].legend(['masculine','feminine'])\n",
        "\n",
        "plt.show()"
      ],
      "execution_count": 51,
      "outputs": [
        {
          "output_type": "display_data",
          "data": {
            "text/plain": [
              "<Figure size 1152x360 with 2 Axes>"
            ],
            "image/png": "[encoded data removed]"
          },
          "metadata": {}
        }
      ]
    },
    {
      "cell_type": "markdown",
      "metadata": {
        "id": "8h0lRuwqIPz8"
      },
      "source": [
        "###4-3. 가장 가벼운 캐릭터와 가장 무거운 캐릭터"
      ]
    },
    {
      "cell_type": "code",
      "metadata": {
        "id": "pr039q8SMSqb",
        "colab": {
          "base_uri": "https://localhost:8080/"
        },
        "outputId": "6bbbce00-7553-459c-9342-957bb6f6511e"
      },
      "source": [
        "#몸무게가 가장 가벼운 캐릭터\n",
        "notz = sw[sw['mass'] != 0]  #몸무게가 0인 것은 제외하자!\n",
        "min(notz['mass'])"
      ],
      "execution_count": 52,
      "outputs": [
        {
          "output_type": "execute_result",
          "data": {
            "text/plain": [
              "15.0"
            ]
          },
          "metadata": {},
          "execution_count": 52
        }
      ]
    },
    {
      "cell_type": "code",
      "metadata": {
        "id": "9yFDO0AKIPQt",
        "colab": {
          "base_uri": "https://localhost:8080/"
        },
        "outputId": "a8253ce8-2e5c-44ab-c323-a80445f2e1c2"
      },
      "source": [
        "#데이터 내용 정리해서 출력하기\n",
        "print(\"{}의 몸무게가 {} (으)로 가장 가볍다 \".format(notz[notz['mass'] == min(notz['mass'])]['name'].values, min(notz['mass'])))\n",
        "print(\"{}의 몸무게가 {} (으)로 가장 가볍다 \".format(notz[notz['mass'] == max(notz['mass'])]['name'].values, max(notz['mass'])))"
      ],
      "execution_count": 53,
      "outputs": [
        {
          "output_type": "stream",
          "name": "stdout",
          "text": [
            "['Ratts Tyerell']의 몸무게가 15.0 (으)로 가장 가볍다 \n",
            "['Jabba Desilijic Tiure']의 몸무게가 1358.0 (으)로 가장 가볍다 \n"
          ]
        }
      ]
    },
    {
      "cell_type": "markdown",
      "metadata": {
        "id": "4yq6VQQ3WUWl"
      },
      "source": [
        "###4-4.스타워즈 캐릭터의 종족 간 몸무게 비교"
      ]
    },
    {
      "cell_type": "code",
      "metadata": {
        "id": "r1EtWq4zS1dL",
        "colab": {
          "base_uri": "https://localhost:8080/",
          "height": 1000
        },
        "outputId": "85518963-a91c-432c-c60e-8333b3afbc00"
      },
      "source": [
        "#Groupby로 스타워즈 종족 별 평균 몸무게를 계산해보자\n",
        "weight = sw[['species', 'mass']].groupby(['species'], as_index=True).mean()\n",
        "weight"
      ],
      "execution_count": 69,
      "outputs": [
        {
          "output_type": "execute_result",
          "data": {
            "text/plain": [
              "                       mass\n",
              "species                    \n",
              "Aleena            15.000000\n",
              "Besalisk         102.000000\n",
              "Cerean            82.000000\n",
              "Chagrian           0.000000\n",
              "Clawdite          55.000000\n",
              "Droid             46.500000\n",
              "Dug               40.000000\n",
              "Ewok              20.000000\n",
              "Geonosian         80.000000\n",
              "Gungan            49.333333\n",
              "Human             52.034286\n",
              "Hutt            1358.000000\n",
              "Iktotchi           0.000000\n",
              "Kaleesh          159.000000\n",
              "Kaminoan          44.000000\n",
              "Kel Dor           80.000000\n",
              "Mirialan          53.100000\n",
              "Mon Calamari      83.000000\n",
              "Muun               0.000000\n",
              "Nautolan          87.000000\n",
              "Neimodian         90.000000\n",
              "Pau'an            80.000000\n",
              "Quermian           0.000000\n",
              "Rodian            74.000000\n",
              "Skakoan           48.000000\n",
              "Sullustan         68.000000\n",
              "Tholothian        50.000000\n",
              "Togruta           57.000000\n",
              "Toong             65.000000\n",
              "Toydarian          0.000000\n",
              "Trandoshan       113.000000\n",
              "Twi'lek           27.500000\n",
              "Vulptereen        45.000000\n",
              "Wookiee          124.000000\n",
              "Xexto              0.000000\n",
              "Yoda's species    17.000000\n",
              "Zabrak            40.000000"
            ],
            "text/html": [
              "\n",
              "  <div id=\"df-ea4db14d-e4d5-440c-bb0d-d1dc5d99bac1\">\n",
              "    <div class=\"colab-df-container\">\n",
              "      <div>\n",
              "<style scoped>\n",
              "    .dataframe tbody tr th:only-of-type {\n",
              "        vertical-align: middle;\n",
              "    }\n",
              "\n",
              "    .dataframe tbody tr th {\n",
              "        vertical-align: top;\n",
              "    }\n",
              "\n",
              "    .dataframe thead th {\n",
              "        text-align: right;\n",
              "    }\n",
              "</style>\n",
              "<table border=\"1\" class=\"dataframe\">\n",
              "  <thead>\n",
              "    <tr style=\"text-align: right;\">\n",
              "      <th></th>\n",
              "      <th>mass</th>\n",
              "    </tr>\n",
              "    <tr>\n",
              "      <th>species</th>\n",
              "      <th></th>\n",
              "    </tr>\n",
              "  </thead>\n",
              "  <tbody>\n",
              "    <tr>\n",
              "      <th>Aleena</th>\n",
              "      <td>15.000000</td>\n",
              "    </tr>\n",
              "    <tr>\n",
              "      <th>Besalisk</th>\n",
              "      <td>102.000000</td>\n",
              "    </tr>\n",
              "    <tr>\n",
              "      <th>Cerean</th>\n",
              "      <td>82.000000</td>\n",
              "    </tr>\n",
              "    <tr>\n",
              "      <th>Chagrian</th>\n",
              "      <td>0.000000</td>\n",
              "    </tr>\n",
              "    <tr>\n",
              "      <th>Clawdite</th>\n",
              "      <td>55.000000</td>\n",
              "    </tr>\n",
              "    <tr>\n",
              "      <th>Droid</th>\n",
              "      <td>46.500000</td>\n",
              "    </tr>\n",
              "    <tr>\n",
              "      <th>Dug</th>\n",
              "      <td>40.000000</td>\n",
              "    </tr>\n",
              "    <tr>\n",
              "      <th>Ewok</th>\n",
              "      <td>20.000000</td>\n",
              "    </tr>\n",
              "    <tr>\n",
              "      <th>Geonosian</th>\n",
              "      <td>80.000000</td>\n",
              "    </tr>\n",
              "    <tr>\n",
              "      <th>Gungan</th>\n",
              "      <td>49.333333</td>\n",
              "    </tr>\n",
              "    <tr>\n",
              "      <th>Human</th>\n",
              "      <td>52.034286</td>\n",
              "    </tr>\n",
              "    <tr>\n",
              "      <th>Hutt</th>\n",
              "      <td>1358.000000</td>\n",
              "    </tr>\n",
              "    <tr>\n",
              "      <th>Iktotchi</th>\n",
              "      <td>0.000000</td>\n",
              "    </tr>\n",
              "    <tr>\n",
              "      <th>Kaleesh</th>\n",
              "      <td>159.000000</td>\n",
              "    </tr>\n",
              "    <tr>\n",
              "      <th>Kaminoan</th>\n",
              "      <td>44.000000</td>\n",
              "    </tr>\n",
              "    <tr>\n",
              "      <th>Kel Dor</th>\n",
              "      <td>80.000000</td>\n",
              "    </tr>\n",
              "    <tr>\n",
              "      <th>Mirialan</th>\n",
              "      <td>53.100000</td>\n",
              "    </tr>\n",
              "    <tr>\n",
              "      <th>Mon Calamari</th>\n",
              "      <td>83.000000</td>\n",
              "    </tr>\n",
              "    <tr>\n",
              "      <th>Muun</th>\n",
              "      <td>0.000000</td>\n",
              "    </tr>\n",
              "    <tr>\n",
              "      <th>Nautolan</th>\n",
              "      <td>87.000000</td>\n",
              "    </tr>\n",
              "    <tr>\n",
              "      <th>Neimodian</th>\n",
              "      <td>90.000000</td>\n",
              "    </tr>\n",
              "    <tr>\n",
              "      <th>Pau'an</th>\n",
              "      <td>80.000000</td>\n",
              "    </tr>\n",
              "    <tr>\n",
              "      <th>Quermian</th>\n",
              "      <td>0.000000</td>\n",
              "    </tr>\n",
              "    <tr>\n",
              "      <th>Rodian</th>\n",
              "      <td>74.000000</td>\n",
              "    </tr>\n",
              "    <tr>\n",
              "      <th>Skakoan</th>\n",
              "      <td>48.000000</td>\n",
              "    </tr>\n",
              "    <tr>\n",
              "      <th>Sullustan</th>\n",
              "      <td>68.000000</td>\n",
              "    </tr>\n",
              "    <tr>\n",
              "      <th>Tholothian</th>\n",
              "      <td>50.000000</td>\n",
              "    </tr>\n",
              "    <tr>\n",
              "      <th>Togruta</th>\n",
              "      <td>57.000000</td>\n",
              "    </tr>\n",
              "    <tr>\n",
              "      <th>Toong</th>\n",
              "      <td>65.000000</td>\n",
              "    </tr>\n",
              "    <tr>\n",
              "      <th>Toydarian</th>\n",
              "      <td>0.000000</td>\n",
              "    </tr>\n",
              "    <tr>\n",
              "      <th>Trandoshan</th>\n",
              "      <td>113.000000</td>\n",
              "    </tr>\n",
              "    <tr>\n",
              "      <th>Twi'lek</th>\n",
              "      <td>27.500000</td>\n",
              "    </tr>\n",
              "    <tr>\n",
              "      <th>Vulptereen</th>\n",
              "      <td>45.000000</td>\n",
              "    </tr>\n",
              "    <tr>\n",
              "      <th>Wookiee</th>\n",
              "      <td>124.000000</td>\n",
              "    </tr>\n",
              "    <tr>\n",
              "      <th>Xexto</th>\n",
              "      <td>0.000000</td>\n",
              "    </tr>\n",
              "    <tr>\n",
              "      <th>Yoda's species</th>\n",
              "      <td>17.000000</td>\n",
              "    </tr>\n",
              "    <tr>\n",
              "      <th>Zabrak</th>\n",
              "      <td>40.000000</td>\n",
              "    </tr>\n",
              "  </tbody>\n",
              "</table>\n",
              "</div>\n",
              "      <button class=\"colab-df-convert\" onclick=\"convertToInteractive('df-ea4db14d-e4d5-440c-bb0d-d1dc5d99bac1')\"\n",
              "              title=\"Convert this dataframe to an interactive table.\"\n",
              "              style=\"display:none;\">\n",
              "        \n",
              "  <svg xmlns=\"http://www.w3.org/2000/svg\" height=\"24px\"viewBox=\"0 0 24 24\"\n",
              "       width=\"24px\">\n",
              "    <path d=\"M0 0h24v24H0V0z\" fill=\"none\"/>\n",
              "    <path d=\"M18.56 5.44l.94 2.06.94-2.06 2.06-.94-2.06-.94-.94-2.06-.94 2.06-2.06.94zm-11 1L8.5 8.5l.94-2.06 2.06-.94-2.06-.94L8.5 2.5l-.94 2.06-2.06.94zm10 10l.94 2.06.94-2.06 2.06-.94-2.06-.94-.94-2.06-.94 2.06-2.06.94z\"/><path d=\"M17.41 7.96l-1.37-1.37c-.4-.4-.92-.59-1.43-.59-.52 0-1.04.2-1.43.59L10.3 9.45l-7.72 7.72c-.78.78-.78 2.05 0 2.83L4 21.41c.39.39.9.59 1.41.59.51 0 1.02-.2 1.41-.59l7.78-7.78 2.81-2.81c.8-.78.8-2.07 0-2.86zM5.41 20L4 18.59l7.72-7.72 1.47 1.35L5.41 20z\"/>\n",
              "  </svg>\n",
              "      </button>\n",
              "      \n",
              "  <style>\n",
              "    .colab-df-container {\n",
              "      display:flex;\n",
              "      flex-wrap:wrap;\n",
              "      gap: 12px;\n",
              "    }\n",
              "\n",
              "    .colab-df-convert {\n",
              "      background-color: #E8F0FE;\n",
              "      border: none;\n",
              "      border-radius: 50%;\n",
              "      cursor: pointer;\n",
              "      display: none;\n",
              "      fill: #1967D2;\n",
              "      height: 32px;\n",
              "      padding: 0 0 0 0;\n",
              "      width: 32px;\n",
              "    }\n",
              "\n",
              "    .colab-df-convert:hover {\n",
              "      background-color: #E2EBFA;\n",
              "      box-shadow: 0px 1px 2px rgba(60, 64, 67, 0.3), 0px 1px 3px 1px rgba(60, 64, 67, 0.15);\n",
              "      fill: #174EA6;\n",
              "    }\n",
              "\n",
              "    [theme=dark] .colab-df-convert {\n",
              "      background-color: #3B4455;\n",
              "      fill: #D2E3FC;\n",
              "    }\n",
              "\n",
              "    [theme=dark] .colab-df-convert:hover {\n",
              "      background-color: #434B5C;\n",
              "      box-shadow: 0px 1px 3px 1px rgba(0, 0, 0, 0.15);\n",
              "      filter: drop-shadow(0px 1px 2px rgba(0, 0, 0, 0.3));\n",
              "      fill: #FFFFFF;\n",
              "    }\n",
              "  </style>\n",
              "\n",
              "      <script>\n",
              "        const buttonEl =\n",
              "          document.querySelector('#df-ea4db14d-e4d5-440c-bb0d-d1dc5d99bac1 button.colab-df-convert');\n",
              "        buttonEl.style.display =\n",
              "          google.colab.kernel.accessAllowed ? 'block' : 'none';\n",
              "\n",
              "        async function convertToInteractive(key) {\n",
              "          const element = document.querySelector('#df-ea4db14d-e4d5-440c-bb0d-d1dc5d99bac1');\n",
              "          const dataTable =\n",
              "            await google.colab.kernel.invokeFunction('convertToInteractive',\n",
              "                                                     [key], {});\n",
              "          if (!dataTable) return;\n",
              "\n",
              "          const docLinkHtml = 'Like what you see? Visit the ' +\n",
              "            '<a target=\"_blank\" href=https://colab.research.google.com/notebooks/data_table.ipynb>data table notebook</a>'\n",
              "            + ' to learn more about interactive tables.';\n",
              "          element.innerHTML = '';\n",
              "          dataTable['output_type'] = 'display_data';\n",
              "          await google.colab.output.renderOutput(dataTable, element);\n",
              "          const docLink = document.createElement('div');\n",
              "          docLink.innerHTML = docLinkHtml;\n",
              "          element.appendChild(docLink);\n",
              "        }\n",
              "      </script>\n",
              "    </div>\n",
              "  </div>\n",
              "  "
            ]
          },
          "metadata": {},
          "execution_count": 69
        }
      ]
    },
    {
      "cell_type": "code",
      "metadata": {
        "id": "zqrwt6C_eJsu",
        "colab": {
          "base_uri": "https://localhost:8080/",
          "height": 421
        },
        "outputId": "cd7181d8-3182-4e3e-bbbc-efe9be43c781"
      },
      "source": [
        "#몸무게 많은 순으로 상위 10개 종족을 그래프로 그려보자\n",
        "weight['mass'].sort_values(ascending=False).head(10).plot.bar(color='red')\n",
        "\n",
        "plt.xticks(rotation=45)\n",
        "plt.show()"
      ],
      "execution_count": 70,
      "outputs": [
        {
          "output_type": "display_data",
          "data": {
            "text/plain": [
              "<Figure size 576x396 with 1 Axes>"
            ],
            "image/png": "[encoded data removed]"
          },
          "metadata": {}
        }
      ]
    },
    {
      "cell_type": "code",
      "metadata": {
        "id": "0b0HQVDbKp3t",
        "colab": {
          "base_uri": "https://localhost:8080/",
          "height": 575
        },
        "outputId": "669177a9-1fb5-4f79-c93e-d0f52faa39ac"
      },
      "source": [
        "#스타워즈 종족별 몸무게 많은 순으로 그래프를 그려보자\n",
        "f, ax = plt.subplots(1, 1, figsize=(10,8))\n",
        "\n",
        "colors = sns.color_palette('hls',len(weight['mass'])) #hls라는 컬러팔레트에서 어떤 컬러를 입혀줄지 결정\n",
        "\n",
        "g = weight['mass'].sort_values(ascending=False).plot.bar(color = colors)\n",
        "g.set_xticklabels(g.get_xticklabels(),rotation=90) #라벨이 겹쳐져서 보이니까 90도 돌려준다\n",
        "\n",
        "plt.show()"
      ],
      "execution_count": 71,
      "outputs": [
        {
          "output_type": "display_data",
          "data": {
            "text/plain": [
              "<Figure size 720x576 with 1 Axes>"
            ],
            "image/png": "[encoded data removed]"
          },
          "metadata": {}
        }
      ]
    },
    {
      "cell_type": "markdown",
      "metadata": {
        "id": "rXS5EiJAqIc9"
      },
      "source": [
        "###4-5. 스타워즈 캐릭터의 무게-키 상관관계"
      ]
    },
    {
      "cell_type": "code",
      "source": [
        "sw['mass'].value_counts()\n"
      ],
      "metadata": {
        "colab": {
          "base_uri": "https://localhost:8080/"
        },
        "id": "Zp01mi7OCGmL",
        "outputId": "9a69d13a-d14b-404a-a084-b4443ac938f7"
      },
      "execution_count": 81,
      "outputs": [
        {
          "output_type": "execute_result",
          "data": {
            "text/plain": [
              "0.0       28\n",
              "80.0       6\n",
              "79.0       4\n",
              "77.0       3\n",
              "75.0       3\n",
              "84.0       3\n",
              "55.0       2\n",
              "45.0       2\n",
              "50.0       2\n",
              "82.0       2\n",
              "48.0       2\n",
              "136.0      2\n",
              "32.0       2\n",
              "88.0       1\n",
              "66.0       1\n",
              "56.2       1\n",
              "85.0       1\n",
              "15.0       1\n",
              "87.0       1\n",
              "65.0       1\n",
              "57.0       1\n",
              "40.0       1\n",
              "102.0      1\n",
              "20.0       1\n",
              "90.0       1\n",
              "89.0       1\n",
              "68.0       1\n",
              "83.0       1\n",
              "113.0      1\n",
              "140.0      1\n",
              "78.2       1\n",
              "17.0       1\n",
              "110.0      1\n",
              "1358.0     1\n",
              "74.0       1\n",
              "112.0      1\n",
              "120.0      1\n",
              "49.0       1\n",
              "159.0      1\n",
              "Name: mass, dtype: int64"
            ]
          },
          "metadata": {},
          "execution_count": 81
        }
      ]
    },
    {
      "cell_type": "code",
      "metadata": {
        "id": "hK2jQwyhltL1",
        "colab": {
          "base_uri": "https://localhost:8080/"
        },
        "outputId": "27e28a01-c13b-4af5-9c5c-5d869bba3454"
      },
      "source": [
        "#Hutt은 몸무게가 너무 outlier 하므로 out시키자!\n",
        "#몸무게가 0인 것도 제외시키자!\n",
        "out1 = sw['species'].isin(['Hutt'])\n",
        "out2 = sw['mass'].isin([0])\n",
        "sw[~out1][~out2].shape"
      ],
      "execution_count": 83,
      "outputs": [
        {
          "output_type": "stream",
          "name": "stderr",
          "text": [
            "<ipython-input-83-4e3d60c6794b>:5: UserWarning: Boolean Series key will be reindexed to match DataFrame index.\n",
            "  sw[~out1][~out2].shape\n"
          ]
        },
        {
          "output_type": "execute_result",
          "data": {
            "text/plain": [
              "(58, 11)"
            ]
          },
          "metadata": {},
          "execution_count": 83
        }
      ]
    },
    {
      "cell_type": "code",
      "metadata": {
        "id": "b0K_dJowkHM9",
        "colab": {
          "base_uri": "https://localhost:8080/",
          "height": 420
        },
        "outputId": "ef1a046d-6140-41be-8c43-8f0e9a61b038"
      },
      "source": [
        "#두 데이터 사이의 상관관계를 나타내주는 lmplot\n",
        "#replot은 점만 나타난다\n",
        "\n",
        "sns.lmplot(data=sw[~out1][~out2], x='height', y='mass', hue='gender')\n",
        "sns.set_style(style='darkgrid') #어두운 그리드로 배경 지정\n",
        "\n",
        "plt.show()"
      ],
      "execution_count": 86,
      "outputs": [
        {
          "output_type": "stream",
          "name": "stderr",
          "text": [
            "<ipython-input-86-ab2debd82ec9>:4: UserWarning: Boolean Series key will be reindexed to match DataFrame index.\n",
            "  sns.lmplot(data=sw[~out1][~out2], x='height', y='mass', hue='gender')\n"
          ]
        },
        {
          "output_type": "display_data",
          "data": {
            "text/plain": [
              "<Figure size 455.975x360 with 1 Axes>"
            ],
            "image/png": "[encoded data removed]"
          },
          "metadata": {}
        }
      ]
    },
    {
      "cell_type": "markdown",
      "metadata": {
        "id": "js2AqHOMhlfv"
      },
      "source": [
        "##5.Review"
      ]
    },
    {
      "cell_type": "markdown",
      "metadata": {
        "id": "5gEYjZugh3cn"
      },
      "source": [
        "* 스타워즈 데이터는:  \n",
        "총 데이터 개수:  957  \n",
        "총 결측치 수: 105 = 전체 데이터의 10.97%   \n",
        "스타워즈에 등장하는 등장인물 수:  87  \n",
        "스타워즈에 등장하는 종족 수:  37  \n",
        "\n",
        "* 스타워즈 캐릭터의 성별 비율은?  \n",
        "  : 남성/남성 gender를 가진 캐릭터가 80% 가량을 차지한다.\n",
        "* 성별에 따른 캐릭터 신장의 분포는?  \n",
        "  : 남성 캐릭터의 키가 대체로 여성보다 크며, 로봇은 그보다 키가 작다.\n",
        "* 가장 무거운 캐릭터와 가장 가벼운 캐릭터는?  \n",
        "  : ['Ratts Tyerell']의 몸무게가 15.0 (으)로 가장 가볍다   \n",
        "    ['Jabba Desilijic Tiure']의 몸무게가 1358.0 (으)로 가장 가볍다 \n",
        "* 스타워즈 캐릭터의 키와 몸무게는 상관관계를 가질까?  \n",
        "  : 그렇다. 인간과 다른 행성에 사는 종족이지만, 키와 몸무게는 대체로 비례 관계를 보인다."
      ]
    }
  ]
}